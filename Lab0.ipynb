{
  "nbformat": 4,
  "nbformat_minor": 0,
  "metadata": {
    "colab": {
      "provenance": [],
      "mount_file_id": "1NAv3C3w6LBU7KuHZEhONJAO1Q0UHvWG2",
      "authorship_tag": "ABX9TyNmouuLWDmWWgal0b3NEK75",
      "include_colab_link": true
    },
    "kernelspec": {
      "name": "python3",
      "display_name": "Python 3"
    },
    "language_info": {
      "name": "python"
    },
    "gpuClass": "standard"
  },
  "cells": [
    {
      "cell_type": "markdown",
      "metadata": {
        "id": "view-in-github",
        "colab_type": "text"
      },
      "source": [
        "<a href=\"https://colab.research.google.com/github/MichaelBarfuss/Intro-to-Analytics/blob/main/Lab0.ipynb\" target=\"_parent\"><img src=\"https://colab.research.google.com/assets/colab-badge.svg\" alt=\"Open In Colab\"/></a>"
      ]
    },
    {
      "cell_type": "code",
      "execution_count": null,
      "metadata": {
        "id": "jInPQVWh5MzA"
      },
      "outputs": [],
      "source": []
    },
    {
      "cell_type": "markdown",
      "source": [
        "**Lab 0**"
      ],
      "metadata": {
        "id": "cjTxoM4mCBUv"
      }
    },
    {
      "cell_type": "code",
      "source": [
        "from google.colab import drive  \n",
        "drive.mount(\"/content/drive\")\n"
      ],
      "metadata": {
        "colab": {
          "base_uri": "https://localhost:8080/"
        },
        "id": "UwnQGFn-DCLp",
        "outputId": "95391417-e6a0-452c-9927-0694831bb7fd"
      },
      "execution_count": 1,
      "outputs": [
        {
          "output_type": "stream",
          "name": "stdout",
          "text": [
            "Mounted at /content/drive\n"
          ]
        }
      ]
    },
    {
      "cell_type": "code",
      "source": [
        "import pandas as pd\n",
        "Dam=pd.read_csv('/content/drive/MyDrive/Analytics/Dams-2023.csv')\n",
        "Dam"
      ],
      "metadata": {
        "id": "6QwLdT1qFp8X"
      },
      "execution_count": null,
      "outputs": []
    },
    {
      "cell_type": "code",
      "source": [
        "Dam['Latitude'].describe()"
      ],
      "metadata": {
        "colab": {
          "base_uri": "https://localhost:8080/"
        },
        "id": "S7O877mvHZcN",
        "outputId": "ffdd6805-b899-49f9-d1a5-d9d088569159"
      },
      "execution_count": 5,
      "outputs": [
        {
          "output_type": "execute_result",
          "data": {
            "text/plain": [
              "count    73999.000000\n",
              "mean        38.535344\n",
              "std          4.951658\n",
              "min         13.360500\n",
              "25%         34.500000\n",
              "50%         38.986600\n",
              "75%         41.976600\n",
              "max         71.266600\n",
              "Name: Latitude, dtype: float64"
            ]
          },
          "metadata": {},
          "execution_count": 5
        }
      ]
    },
    {
      "cell_type": "code",
      "source": [
        "Dam['Longitude'].describe()"
      ],
      "metadata": {
        "colab": {
          "base_uri": "https://localhost:8080/"
        },
        "id": "TazpX0jGHsdQ",
        "outputId": "2db14817-c49c-4b60-d8d4-e9bb0d56ccbd"
      },
      "execution_count": 6,
      "outputs": [
        {
          "output_type": "execute_result",
          "data": {
            "text/plain": [
              "count    74001.000000\n",
              "mean       -93.484288\n",
              "std         11.897321\n",
              "min       -176.687300\n",
              "25%        -99.064700\n",
              "50%        -94.650000\n",
              "75%        -84.989400\n",
              "max        -65.672000\n",
              "Name: Longitude, dtype: float64"
            ]
          },
          "metadata": {},
          "execution_count": 6
        }
      ]
    },
    {
      "cell_type": "code",
      "source": [
        "Dam['Dam_Height'].describe()"
      ],
      "metadata": {
        "colab": {
          "base_uri": "https://localhost:8080/"
        },
        "id": "R_dQ7Ch-H8uG",
        "outputId": "16a4f048-218e-4407-e7e0-69388d6c5f88"
      },
      "execution_count": 7,
      "outputs": [
        {
          "output_type": "execute_result",
          "data": {
            "text/plain": [
              "count    68294.000000\n",
              "mean        28.991127\n",
              "std         26.139245\n",
              "min          0.000000\n",
              "25%         18.000000\n",
              "50%         25.000000\n",
              "75%         32.000000\n",
              "max        770.000000\n",
              "Name: Dam_Height, dtype: float64"
            ]
          },
          "metadata": {},
          "execution_count": 7
        }
      ]
    }
  ]
}