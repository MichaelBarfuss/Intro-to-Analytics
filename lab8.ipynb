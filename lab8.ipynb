{
  "nbformat": 4,
  "nbformat_minor": 0,
  "metadata": {
    "colab": {
      "provenance": [],
      "authorship_tag": "ABX9TyNK7cY+X2XfOUxFevLjNQeS",
      "include_colab_link": true
    },
    "kernelspec": {
      "name": "python3",
      "display_name": "Python 3"
    },
    "language_info": {
      "name": "python"
    }
  },
  "cells": [
    {
      "cell_type": "markdown",
      "metadata": {
        "id": "view-in-github",
        "colab_type": "text"
      },
      "source": [
        "<a href=\"https://colab.research.google.com/github/MichaelBarfuss/Intro-to-Analytics/blob/main/lab8.ipynb\" target=\"_parent\"><img src=\"https://colab.research.google.com/assets/colab-badge.svg\" alt=\"Open In Colab\"/></a>"
      ]
    },
    {
      "cell_type": "code",
      "source": [
        "import numpy as np\n",
        "import matplotlib.pyplot as plt\n",
        "from statsmodels.stats.power import TTestIndPower\n",
        "!pip install pingouin\n",
        "import pingouin as pg\n",
        "from scipy.stats import ttest_ind\n",
        "from scipy.stats import ttest_rel\n",
        "from scipy.stats import ttest_1samp\n",
        "from scipy.stats import ttest_1samp\n",
        "from scipy.stats import norm"
      ],
      "metadata": {
        "id": "OGl9uUQ5CTLf"
      },
      "execution_count": null,
      "outputs": []
    },
    {
      "cell_type": "code",
      "source": [
        "import pandas as pd\n",
        "from scipy import stats\n"
      ],
      "metadata": {
        "id": "4Lqf4aAJf2Rj"
      },
      "execution_count": 3,
      "outputs": []
    },
    {
      "cell_type": "markdown",
      "source": [
        "# **Question 1**"
      ],
      "metadata": {
        "id": "PHIUQHme88KW"
      }
    },
    {
      "cell_type": "markdown",
      "source": [
        "ON Paper"
      ],
      "metadata": {
        "id": "E8xJAiFT8_Pp"
      }
    },
    {
      "cell_type": "markdown",
      "source": [
        "# **C**"
      ],
      "metadata": {
        "id": "aQbCJuhOVX1R"
      }
    },
    {
      "cell_type": "code",
      "source": [
        "S=norm.pdf(175,215,20)\n",
        "S"
      ],
      "metadata": {
        "colab": {
          "base_uri": "https://localhost:8080/"
        },
        "id": "mHao0a1oUOrn",
        "outputId": "151f46c5-743f-4581-cf01-b0e7852c2cd7"
      },
      "execution_count": 4,
      "outputs": [
        {
          "output_type": "execute_result",
          "data": {
            "text/plain": [
              "0.002699548325659403"
            ]
          },
          "metadata": {},
          "execution_count": 4
        }
      ]
    },
    {
      "cell_type": "code",
      "source": [
        "1-S"
      ],
      "metadata": {
        "colab": {
          "base_uri": "https://localhost:8080/"
        },
        "id": "cGnXhpzgUHJE",
        "outputId": "b5fc6113-ce37-44d1-b225-59fa8379a467"
      },
      "execution_count": 5,
      "outputs": [
        {
          "output_type": "execute_result",
          "data": {
            "text/plain": [
              "0.9973004516743406"
            ]
          },
          "metadata": {},
          "execution_count": 5
        }
      ]
    },
    {
      "cell_type": "markdown",
      "source": [
        "# **D**"
      ],
      "metadata": {
        "id": "9E3z-nWWVa4J"
      }
    },
    {
      "cell_type": "code",
      "source": [
        "power_analysis = TTestIndPower()\n",
        "power = power_analysis.power(effect_size = 2, alpha = 0.05, nobs1= 10, alternative = 'larger')#nobs1= sample size\n",
        "print('The power for the hypothesis testing is', round(power, 2))"
      ],
      "metadata": {
        "colab": {
          "base_uri": "https://localhost:8080/"
        },
        "id": "gTmIM-u3VfLc",
        "outputId": "9d58c4d9-2d30-4c5c-d2b6-c3288059642d"
      },
      "execution_count": 6,
      "outputs": [
        {
          "output_type": "stream",
          "name": "stdout",
          "text": [
            "The power for the hypothesis testing is 1.0\n"
          ]
        }
      ]
    },
    {
      "cell_type": "markdown",
      "source": [
        "The sample size was only needed for 7 so our sample size was 10. That means the sample size is adequate."
      ],
      "metadata": {
        "id": "yRy7NMkrXwBr"
      }
    },
    {
      "cell_type": "markdown",
      "source": [
        "# **Question 2**"
      ],
      "metadata": {
        "id": "9K8KTwRF9Bpq"
      }
    },
    {
      "cell_type": "markdown",
      "source": [
        "Independant"
      ],
      "metadata": {
        "id": "mRLHeChsjWA2"
      }
    },
    {
      "cell_type": "code",
      "source": [
        "temp= 97.8, 97.2, 97.4, 97.6, 97.8, 97.9, 98.0, 98.0, 98.0, 98.1, 98.2, 98.3, 98.3, 98.4, 98.4, 98.4, 98.5, 98.6, 98.6, 98.7, 98.8, 98.8, 98.9, 98.9,99.0\n",
        "can=np.array(temp)"
      ],
      "metadata": {
        "id": "jAVKQxiHB9al"
      },
      "execution_count": 7,
      "outputs": []
    },
    {
      "cell_type": "code",
      "source": [
        "can.std()"
      ],
      "metadata": {
        "colab": {
          "base_uri": "https://localhost:8080/"
        },
        "id": "Jv3FK3d1fO5T",
        "outputId": "58ab1ca5-f5d9-4eae-a736-c67248f81e6a"
      },
      "execution_count": 8,
      "outputs": [
        {
          "output_type": "execute_result",
          "data": {
            "text/plain": [
              "0.4723388614120164"
            ]
          },
          "metadata": {},
          "execution_count": 8
        }
      ]
    },
    {
      "cell_type": "markdown",
      "source": [
        "A"
      ],
      "metadata": {
        "id": "wsqKq_l69H3k"
      }
    },
    {
      "cell_type": "code",
      "source": [
        "ttest_1samp(a=temp, popmean= 98.6 )"
      ],
      "metadata": {
        "id": "8vt-T1js9Eso",
        "colab": {
          "base_uri": "https://localhost:8080/"
        },
        "outputId": "6ffae437-0485-446f-c381-aa896588284c"
      },
      "execution_count": 9,
      "outputs": [
        {
          "output_type": "execute_result",
          "data": {
            "text/plain": [
              "TtestResult(statistic=-3.484907217309078, pvalue=0.0019124143827446436, df=24)"
            ]
          },
          "metadata": {},
          "execution_count": 9
        }
      ]
    },
    {
      "cell_type": "code",
      "source": [
        "t_stat, p_value= ttest_1samp(a=temp, popmean= 98.6)"
      ],
      "metadata": {
        "id": "GJ1PPdUMH9n9"
      },
      "execution_count": 10,
      "outputs": []
    },
    {
      "cell_type": "code",
      "source": [
        "p_value"
      ],
      "metadata": {
        "id": "17TtWUyaIBx2",
        "colab": {
          "base_uri": "https://localhost:8080/"
        },
        "outputId": "f262f587-4083-4eac-f261-10498e0146ce"
      },
      "execution_count": 11,
      "outputs": [
        {
          "output_type": "execute_result",
          "data": {
            "text/plain": [
              "0.0019124143827446436"
            ]
          },
          "metadata": {},
          "execution_count": 11
        }
      ]
    },
    {
      "cell_type": "code",
      "source": [
        "if p_value < 0.05:\n",
        "  print(\"We reject the null hypothesis\")\n",
        "\n",
        "else:\n",
        "  print(\"We fail to rejet the null hypothesis\")"
      ],
      "metadata": {
        "id": "h9EZwJGRIJlZ",
        "colab": {
          "base_uri": "https://localhost:8080/"
        },
        "outputId": "02204bbc-9306-46f8-f76d-0ac72d9a5e56"
      },
      "execution_count": 12,
      "outputs": [
        {
          "output_type": "stream",
          "name": "stdout",
          "text": [
            "We reject the null hypothesis\n"
          ]
        }
      ]
    },
    {
      "cell_type": "markdown",
      "source": [
        "B"
      ],
      "metadata": {
        "id": "yI39_eli9Igf"
      }
    },
    {
      "cell_type": "code",
      "source": [
        "#Normality Check\n",
        "pg.qqplot(temp)\n",
        "plt.show()"
      ],
      "metadata": {
        "id": "EwZ-YdzF9E8V",
        "colab": {
          "base_uri": "https://localhost:8080/",
          "height": 449
        },
        "outputId": "5983f032-c685-4e14-f562-0173494570b1"
      },
      "execution_count": 13,
      "outputs": [
        {
          "output_type": "display_data",
          "data": {
            "text/plain": [
              "<Figure size 640x480 with 1 Axes>"
            ],
            "image/png": "[encoded data removed]"
          },
          "metadata": {}
        }
      ]
    },
    {
      "cell_type": "markdown",
      "source": [
        "C"
      ],
      "metadata": {
        "id": "RyAdZ5yR9JRd"
      }
    },
    {
      "cell_type": "code",
      "source": [
        "power_analysis = TTestIndPower()\n",
        "power = power_analysis.power(effect_size = 1.2, alpha = 0.05, nobs1= 25, alternative = 'larger')#nobs1= sample size\n",
        "print('The power for the hypothesis testing is', round(power, 2))"
      ],
      "metadata": {
        "colab": {
          "base_uri": "https://localhost:8080/"
        },
        "id": "8Dizk-WHetr5",
        "outputId": "f2523dfb-a428-44ec-a889-c19b0ade22be"
      },
      "execution_count": 14,
      "outputs": [
        {
          "output_type": "stream",
          "name": "stdout",
          "text": [
            "The power for the hypothesis testing is 0.99\n"
          ]
        }
      ]
    },
    {
      "cell_type": "code",
      "source": [
        "0.6 /0.5"
      ],
      "metadata": {
        "id": "1sGUADNg9GWg",
        "colab": {
          "base_uri": "https://localhost:8080/"
        },
        "outputId": "e56c5c88-b35f-4a11-ef64-4c1a921dd69c"
      },
      "execution_count": 15,
      "outputs": [
        {
          "output_type": "execute_result",
          "data": {
            "text/plain": [
              "1.2"
            ]
          },
          "metadata": {},
          "execution_count": 15
        }
      ]
    },
    {
      "cell_type": "markdown",
      "source": [
        "D"
      ],
      "metadata": {
        "id": "8qdBHkkx9KuZ"
      }
    },
    {
      "cell_type": "code",
      "source": [
        "power_analysis = TTestIndPower()\n",
        "sample_size = power_analysis.solve_power(effect_size = 1.2, alpha = 0.05, power = 0.9, alternative = 'larger')#effect size= d ratio, #alternative= 'two-sided', 'larger', 'smaller'\n",
        "# Print results\n",
        "print('The sample size needed for each group is', round(sample_size))"
      ],
      "metadata": {
        "id": "4J7_jOoT9G0f",
        "colab": {
          "base_uri": "https://localhost:8080/"
        },
        "outputId": "05471d38-6083-40e1-8b90-84941a621237"
      },
      "execution_count": 16,
      "outputs": [
        {
          "output_type": "stream",
          "name": "stdout",
          "text": [
            "The sample size needed for each group is 13\n"
          ]
        },
        {
          "output_type": "stream",
          "name": "stderr",
          "text": [
            "/usr/local/lib/python3.9/dist-packages/scipy/stats/_continuous_distns.py:6832: RuntimeWarning: invalid value encountered in _nct_sf\n",
            "  return np.clip(_boost._nct_sf(x, df, nc), 0, 1)\n"
          ]
        }
      ]
    },
    {
      "cell_type": "markdown",
      "source": [
        "The Sample size would need to only be 13"
      ],
      "metadata": {
        "id": "ywIMYx5ciw5s"
      }
    },
    {
      "cell_type": "markdown",
      "source": [
        "# **Question 3**"
      ],
      "metadata": {
        "id": "Q9UQghnn9LzJ"
      }
    },
    {
      "cell_type": "markdown",
      "source": [
        "Dependant"
      ],
      "metadata": {
        "id": "aQATigKRYjbQ"
      }
    },
    {
      "cell_type": "code",
      "source": [
        "low= 242,249,235,250,254,244,258,311,237,261,314,252\n",
        "high=302,421,419,399,317,311,350,363,392,367,301,302\n",
        "lmean=np.array(low)\n",
        "hmean=np.array(high)"
      ],
      "metadata": {
        "id": "ysthvrmeGBpO"
      },
      "execution_count": 17,
      "outputs": []
    },
    {
      "cell_type": "markdown",
      "source": [
        "A"
      ],
      "metadata": {
        "id": "RoLtPWO39PT1"
      }
    },
    {
      "cell_type": "markdown",
      "source": [
        "There is evedience to support the claim that mean grinding forces increases with the vibration level. The p value is small."
      ],
      "metadata": {
        "id": "B3929Cz5rFAU"
      }
    },
    {
      "cell_type": "code",
      "source": [
        "ttest_rel(a=low, b= high)"
      ],
      "metadata": {
        "id": "6leUIEjO9QM3",
        "colab": {
          "base_uri": "https://localhost:8080/"
        },
        "outputId": "c8e12dce-05ec-4c9b-cb31-d0c88dc1f7b1"
      },
      "execution_count": 18,
      "outputs": [
        {
          "output_type": "execute_result",
          "data": {
            "text/plain": [
              "TtestResult(statistic=-5.507637163934782, pvalue=0.0001841076423203466, df=11)"
            ]
          },
          "metadata": {},
          "execution_count": 18
        }
      ]
    },
    {
      "cell_type": "markdown",
      "source": [
        "B"
      ],
      "metadata": {
        "id": "rYHFbvBm9QjI"
      }
    },
    {
      "cell_type": "code",
      "source": [
        "ttest_rel(a=low, b= high).confidence_interval(confidence_level=.95)"
      ],
      "metadata": {
        "colab": {
          "base_uri": "https://localhost:8080/"
        },
        "id": "utk3n0LvpZSv",
        "outputId": "55dc039b-8ebb-417b-e06c-ed1d41c0018d"
      },
      "execution_count": 19,
      "outputs": [
        {
          "output_type": "execute_result",
          "data": {
            "text/plain": [
              "ConfidenceInterval(low=-132.61439406056866, high=-56.885605939431336)"
            ]
          },
          "metadata": {},
          "execution_count": 19
        }
      ]
    },
    {
      "cell_type": "markdown",
      "source": [
        "C"
      ],
      "metadata": {
        "id": "eoPRJ9Dc9RrV"
      }
    },
    {
      "cell_type": "markdown",
      "source": [
        "The value 0 is not contatined in the interval.  It is connected to part A by the test statistic exceeds the other t value and the P-value is less than 0.001\n",
        "Therefore, two methods yield different results."
      ],
      "metadata": {
        "id": "D0oqL4mdpwmW"
      }
    },
    {
      "cell_type": "markdown",
      "source": [
        "D"
      ],
      "metadata": {
        "id": "GCCZK1yC9Skw"
      }
    },
    {
      "cell_type": "code",
      "source": [
        "pg.qqplot(high)\n",
        "plt.show()"
      ],
      "metadata": {
        "id": "24hpGyq49TEA"
      },
      "execution_count": null,
      "outputs": []
    },
    {
      "cell_type": "code",
      "source": [
        "pg.qqplot(low)\n",
        "plt.show()"
      ],
      "metadata": {
        "id": "g-41NtQ1HPT-"
      },
      "execution_count": null,
      "outputs": []
    },
    {
      "cell_type": "markdown",
      "source": [
        "Not really, Only on the plot of low grinding force was it slightly not normal, but they are both normally distributed."
      ],
      "metadata": {
        "id": "szMr7xr1HVuR"
      }
    },
    {
      "cell_type": "markdown",
      "source": [
        "# **Question 4**"
      ],
      "metadata": {
        "id": "-azbXPIs9Tmq"
      }
    },
    {
      "cell_type": "markdown",
      "source": [
        "Dependant"
      ],
      "metadata": {
        "id": "YAV6ryrW9WdA"
      }
    },
    {
      "cell_type": "code",
      "source": [
        "Before=22,20,19,24,25,25,28,22,30,27,24,18,16,19,19,28,24,25,25,23\n",
        "After = 24,22,19,22,28,26,28,24,30,29,25,20,17,18,18,28,26,27,27,24"
      ],
      "metadata": {
        "id": "kshV80CXHquf"
      },
      "execution_count": 22,
      "outputs": []
    },
    {
      "cell_type": "code",
      "source": [
        "ttest_rel(a=Before, b= After)"
      ],
      "metadata": {
        "id": "9Z1eUq45sKPg",
        "colab": {
          "base_uri": "https://localhost:8080/"
        },
        "outputId": "9ae0baf9-f024-4689-ec92-650d41a7dfb5"
      },
      "execution_count": 23,
      "outputs": [
        {
          "output_type": "execute_result",
          "data": {
            "text/plain": [
              "TtestResult(statistic=-3.22617331116718, pvalue=0.004445370704412229, df=19)"
            ]
          },
          "metadata": {},
          "execution_count": 23
        }
      ]
    },
    {
      "cell_type": "markdown",
      "source": [
        "The Pvalue isn't as high as the last one but still indicates that the null hypthesis isn't Ud /=0."
      ],
      "metadata": {
        "id": "HEuUb2W8iwo9"
      }
    },
    {
      "cell_type": "code",
      "source": [
        "if p_value < 0.05:\n",
        "  print(\"We reject the null hypothesis\")\n",
        "\n",
        "else:\n",
        "  print(\"We fail to rejet the null hypothesis\")"
      ],
      "metadata": {
        "id": "1UQTLtsosKNI",
        "colab": {
          "base_uri": "https://localhost:8080/"
        },
        "outputId": "19b97817-06cf-4c25-c949-8c74e326ac7f"
      },
      "execution_count": 29,
      "outputs": [
        {
          "output_type": "stream",
          "name": "stdout",
          "text": [
            "We reject the null hypothesis\n"
          ]
        }
      ]
    },
    {
      "cell_type": "code",
      "source": [
        "ttest_rel(a=Before, b= After).confidence_interval(confidence_level=.95)\n"
      ],
      "metadata": {
        "colab": {
          "base_uri": "https://localhost:8080/"
        },
        "id": "Z8WCLIegjd1z",
        "outputId": "9b0587e5-f5ee-40cb-cf9e-aae42f25b692"
      },
      "execution_count": 30,
      "outputs": [
        {
          "output_type": "execute_result",
          "data": {
            "text/plain": [
              "ConfidenceInterval(low=-1.5663254915057514, high=-0.3336745084942485)"
            ]
          },
          "metadata": {},
          "execution_count": 30
        }
      ]
    },
    {
      "cell_type": "markdown",
      "source": [
        "0 is barely not in the confidence level which tells me the two methods have different resluts barely.\n"
      ],
      "metadata": {
        "id": "kQa3s3FXjm99"
      }
    }
  ]
}