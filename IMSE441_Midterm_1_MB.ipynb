{
  "nbformat": 4,
  "nbformat_minor": 0,
  "metadata": {
    "colab": {
      "provenance": [],
      "authorship_tag": "ABX9TyP3X/GgfoIubwcJIkoM7vkN",
      "include_colab_link": true
    },
    "kernelspec": {
      "name": "python3",
      "display_name": "Python 3"
    },
    "language_info": {
      "name": "python"
    }
  },
  "cells": [
    {
      "cell_type": "markdown",
      "metadata": {
        "id": "view-in-github",
        "colab_type": "text"
      },
      "source": [
        "<a href=\"https://colab.research.google.com/github/MichaelBarfuss/Intro-to-Analytics/blob/main/IMSE441_Midterm_1_MB.ipynb\" target=\"_parent\"><img src=\"https://colab.research.google.com/assets/colab-badge.svg\" alt=\"Open In Colab\"/></a>"
      ]
    },
    {
      "cell_type": "code",
      "execution_count": 182,
      "metadata": {
        "id": "r85h6_C9y6rc",
        "colab": {
          "base_uri": "https://localhost:8080/"
        },
        "outputId": "57825ec6-522f-4bbc-d927-879776d9a08d"
      },
      "outputs": [
        {
          "output_type": "stream",
          "name": "stdout",
          "text": [
            "Looking in indexes: https://pypi.org/simple, https://us-python.pkg.dev/colab-wheels/public/simple/\n",
            "Requirement already satisfied: pingouin in /usr/local/lib/python3.9/dist-packages (0.5.3)\n",
            "Requirement already satisfied: pandas>=1.0 in /usr/local/lib/python3.9/dist-packages (from pingouin) (1.3.5)\n",
            "Requirement already satisfied: tabulate in /usr/local/lib/python3.9/dist-packages (from pingouin) (0.8.10)\n",
            "Requirement already satisfied: numpy>=1.19 in /usr/local/lib/python3.9/dist-packages (from pingouin) (1.22.4)\n",
            "Requirement already satisfied: pandas-flavor>=0.2.0 in /usr/local/lib/python3.9/dist-packages (from pingouin) (0.5.0)\n",
            "Requirement already satisfied: matplotlib>=3.0.2 in /usr/local/lib/python3.9/dist-packages (from pingouin) (3.5.3)\n",
            "Requirement already satisfied: scikit-learn in /usr/local/lib/python3.9/dist-packages (from pingouin) (1.2.1)\n",
            "Requirement already satisfied: statsmodels>=0.13 in /usr/local/lib/python3.9/dist-packages (from pingouin) (0.13.5)\n",
            "Requirement already satisfied: seaborn>=0.11 in /usr/local/lib/python3.9/dist-packages (from pingouin) (0.11.2)\n",
            "Requirement already satisfied: outdated in /usr/local/lib/python3.9/dist-packages (from pingouin) (0.2.2)\n",
            "Requirement already satisfied: scipy>=1.7 in /usr/local/lib/python3.9/dist-packages (from pingouin) (1.10.1)\n",
            "Requirement already satisfied: pyparsing>=2.2.1 in /usr/local/lib/python3.9/dist-packages (from matplotlib>=3.0.2->pingouin) (3.0.9)\n",
            "Requirement already satisfied: packaging>=20.0 in /usr/local/lib/python3.9/dist-packages (from matplotlib>=3.0.2->pingouin) (23.0)\n",
            "Requirement already satisfied: kiwisolver>=1.0.1 in /usr/local/lib/python3.9/dist-packages (from matplotlib>=3.0.2->pingouin) (1.4.4)\n",
            "Requirement already satisfied: pillow>=6.2.0 in /usr/local/lib/python3.9/dist-packages (from matplotlib>=3.0.2->pingouin) (8.4.0)\n",
            "Requirement already satisfied: fonttools>=4.22.0 in /usr/local/lib/python3.9/dist-packages (from matplotlib>=3.0.2->pingouin) (4.39.0)\n",
            "Requirement already satisfied: python-dateutil>=2.7 in /usr/local/lib/python3.9/dist-packages (from matplotlib>=3.0.2->pingouin) (2.8.2)\n",
            "Requirement already satisfied: cycler>=0.10 in /usr/local/lib/python3.9/dist-packages (from matplotlib>=3.0.2->pingouin) (0.11.0)\n",
            "Requirement already satisfied: pytz>=2017.3 in /usr/local/lib/python3.9/dist-packages (from pandas>=1.0->pingouin) (2022.7.1)\n",
            "Requirement already satisfied: xarray in /usr/local/lib/python3.9/dist-packages (from pandas-flavor>=0.2.0->pingouin) (2022.12.0)\n",
            "Requirement already satisfied: lazy-loader>=0.1 in /usr/local/lib/python3.9/dist-packages (from pandas-flavor>=0.2.0->pingouin) (0.1)\n",
            "Requirement already satisfied: patsy>=0.5.2 in /usr/local/lib/python3.9/dist-packages (from statsmodels>=0.13->pingouin) (0.5.3)\n",
            "Requirement already satisfied: requests in /usr/local/lib/python3.9/dist-packages (from outdated->pingouin) (2.25.1)\n",
            "Requirement already satisfied: littleutils in /usr/local/lib/python3.9/dist-packages (from outdated->pingouin) (0.2.2)\n",
            "Requirement already satisfied: setuptools>=44 in /usr/local/lib/python3.9/dist-packages (from outdated->pingouin) (57.4.0)\n",
            "Requirement already satisfied: joblib>=1.1.1 in /usr/local/lib/python3.9/dist-packages (from scikit-learn->pingouin) (1.2.0)\n",
            "Requirement already satisfied: threadpoolctl>=2.0.0 in /usr/local/lib/python3.9/dist-packages (from scikit-learn->pingouin) (3.1.0)\n",
            "Requirement already satisfied: six in /usr/local/lib/python3.9/dist-packages (from patsy>=0.5.2->statsmodels>=0.13->pingouin) (1.15.0)\n",
            "Requirement already satisfied: urllib3<1.27,>=1.21.1 in /usr/local/lib/python3.9/dist-packages (from requests->outdated->pingouin) (1.26.14)\n",
            "Requirement already satisfied: chardet<5,>=3.0.2 in /usr/local/lib/python3.9/dist-packages (from requests->outdated->pingouin) (4.0.0)\n",
            "Requirement already satisfied: certifi>=2017.4.17 in /usr/local/lib/python3.9/dist-packages (from requests->outdated->pingouin) (2022.12.7)\n",
            "Requirement already satisfied: idna<3,>=2.5 in /usr/local/lib/python3.9/dist-packages (from requests->outdated->pingouin) (2.10)\n"
          ]
        }
      ],
      "source": [
        "import pandas as pd\n",
        "import numpy as np\n",
        "import matplotlib.pyplot as plt\n",
        "from scipy.stats import randint \n",
        "from scipy.stats import binom\n",
        "import scipy as scipy\n",
        "%pip install pingouin\n",
        "import pingouin as pg\n"
      ]
    },
    {
      "cell_type": "code",
      "source": [
        "from scipy.stats import hypergeom\n",
        "from scipy.stats import norm\n",
        "from scipy import stats"
      ],
      "metadata": {
        "id": "zhxGwT_O2pcv"
      },
      "execution_count": 183,
      "outputs": []
    },
    {
      "cell_type": "markdown",
      "source": [
        "**1A.**"
      ],
      "metadata": {
        "id": "VslwhzHxLFBE"
      }
    },
    {
      "cell_type": "markdown",
      "source": [
        "Discrete Distribution"
      ],
      "metadata": {
        "id": "Nchpr6NU6I0L"
      }
    },
    {
      "cell_type": "code",
      "source": [
        "L=1\n",
        "U=6\n",
        "\n",
        "X = np.arange(L, U+1)\n",
        "\n",
        "print(X)\n"
      ],
      "metadata": {
        "id": "6C3BQwyhLD4J",
        "colab": {
          "base_uri": "https://localhost:8080/"
        },
        "outputId": "f4308b05-f0dc-4e8b-c50d-e3d40693e1b0"
      },
      "execution_count": 184,
      "outputs": [
        {
          "output_type": "stream",
          "name": "stdout",
          "text": [
            "[1 2 3 4 5 6]\n"
          ]
        }
      ]
    },
    {
      "cell_type": "code",
      "source": [
        "#Mean #Variance \n",
        "mean, var=X.mean(),X.var()\n",
        "mean, var"
      ],
      "metadata": {
        "id": "Jo2TpU71ru4Z",
        "colab": {
          "base_uri": "https://localhost:8080/"
        },
        "outputId": "f9e62918-ecb3-43ea-fe32-043a0b2f1b40"
      },
      "execution_count": 185,
      "outputs": [
        {
          "output_type": "execute_result",
          "data": {
            "text/plain": [
              "(3.5, 2.9166666666666665)"
            ]
          },
          "metadata": {},
          "execution_count": 185
        }
      ]
    },
    {
      "cell_type": "code",
      "source": [
        "std=np.std(X)\n",
        "std"
      ],
      "metadata": {
        "id": "ktLduO0-6R6G",
        "colab": {
          "base_uri": "https://localhost:8080/"
        },
        "outputId": "16e90762-4ce3-4073-8c7a-32d2f7cfbd5e"
      },
      "execution_count": 186,
      "outputs": [
        {
          "output_type": "execute_result",
          "data": {
            "text/plain": [
              "1.707825127659933"
            ]
          },
          "metadata": {},
          "execution_count": 186
        }
      ]
    },
    {
      "cell_type": "markdown",
      "source": [
        "Continous Distribution"
      ],
      "metadata": {
        "id": "mt6qGM337aKr"
      }
    },
    {
      "cell_type": "code",
      "source": [
        "\n",
        "x = np.random.randn(20)\n",
        "x"
      ],
      "metadata": {
        "id": "22jAaQuX5Uqe",
        "colab": {
          "base_uri": "https://localhost:8080/"
        },
        "outputId": "76a1b9b4-ab48-4b85-b677-e1ecd8420b75"
      },
      "execution_count": 187,
      "outputs": [
        {
          "output_type": "execute_result",
          "data": {
            "text/plain": [
              "array([ 0.80723653,  0.04549008, -0.23309206, -1.19830114,  0.19952407,\n",
              "        0.46843912, -0.83115498,  1.16220405, -1.09720305, -2.12310035,\n",
              "        1.03972709, -0.40336604, -0.12602959, -0.83751672, -1.60596276,\n",
              "        1.25523737, -0.68886898,  1.66095249,  0.80730819, -0.31475815])"
            ]
          },
          "metadata": {},
          "execution_count": 187
        }
      ]
    },
    {
      "cell_type": "code",
      "source": [
        "mean, var, std= np.mean(x), np.var(x), np.std(x)\n",
        "mean, var, std"
      ],
      "metadata": {
        "id": "ICw9Hrdv6Rux",
        "colab": {
          "base_uri": "https://localhost:8080/"
        },
        "outputId": "701c80d5-af56-4323-ffc2-91af27592ec9"
      },
      "execution_count": 188,
      "outputs": [
        {
          "output_type": "execute_result",
          "data": {
            "text/plain": [
              "(-0.10066174133434291, 1.0026703967687582, 1.0013343081951993)"
            ]
          },
          "metadata": {},
          "execution_count": 188
        }
      ]
    },
    {
      "cell_type": "markdown",
      "source": [
        "**B**"
      ],
      "metadata": {
        "id": "QexLOMPjMYwY"
      }
    },
    {
      "cell_type": "markdown",
      "source": [
        "Discrete Dist"
      ],
      "metadata": {
        "id": "IyUM2wxv4aZK"
      }
    },
    {
      "cell_type": "code",
      "source": [
        "D_uni_dist = randint(L, U+1)\n",
        "D_uni_pmf = D_uni_dist.pmf(X)\n",
        "D_uni_pmf = D_uni_dist.pmf(X)\n",
        "D_uni_dist = randint(L, U+1)"
      ],
      "metadata": {
        "id": "ixN-A-BrG5V8"
      },
      "execution_count": 189,
      "outputs": []
    },
    {
      "cell_type": "code",
      "source": [
        "plt.bar(X, D_uni_pmf)\n",
        "plt.xlabel('X')\n",
        "plt.ylabel('Probability')\n",
        "plt.show()"
      ],
      "metadata": {
        "id": "qqmMikuUGc0b",
        "colab": {
          "base_uri": "https://localhost:8080/",
          "height": 279
        },
        "outputId": "84dbe8c3-4f1b-4c0a-dae0-8ce9b0a81e26"
      },
      "execution_count": 190,
      "outputs": [
        {
          "output_type": "display_data",
          "data": {
            "text/plain": [
              "<Figure size 432x288 with 1 Axes>"
            ],
            "image/png": "[encoded data removed]"
          },
          "metadata": {
            "needs_background": "light"
          }
        }
      ]
    },
    {
      "cell_type": "code",
      "source": [
        "D_uni_cdf = D_uni_dist.cdf(X)"
      ],
      "metadata": {
        "id": "vUAR-r-VHU-7"
      },
      "execution_count": 191,
      "outputs": []
    },
    {
      "cell_type": "code",
      "source": [
        "plt.plot(X, D_uni_cdf,'bo', ms=8)\n",
        "plt.xlabel('X')\n",
        "plt.ylabel('Cumulative Probability')\n",
        "plt.show()"
      ],
      "metadata": {
        "id": "udaxjShQHXyD",
        "colab": {
          "base_uri": "https://localhost:8080/",
          "height": 279
        },
        "outputId": "f6295363-71e5-4e24-d2d1-e56e0db4a505"
      },
      "execution_count": 192,
      "outputs": [
        {
          "output_type": "display_data",
          "data": {
            "text/plain": [
              "<Figure size 432x288 with 1 Axes>"
            ],
            "image/png": "[encoded data removed]"
          },
          "metadata": {
            "needs_background": "light"
          }
        }
      ]
    },
    {
      "cell_type": "markdown",
      "source": [
        "Continous Distribution"
      ],
      "metadata": {
        "id": "briX3UA34fOc"
      }
    },
    {
      "cell_type": "code",
      "source": [
        "x=np.arange(-1,5,0.1)\n",
        "plt.plot(x,norm.pdf(x,2,1))\n",
        "plt.show()\n",
        "     "
      ],
      "metadata": {
        "id": "-i3RK0gQ5GkV",
        "colab": {
          "base_uri": "https://localhost:8080/",
          "height": 265
        },
        "outputId": "517f7a31-bb0d-4d66-9cdf-38453e37c46d"
      },
      "execution_count": 193,
      "outputs": [
        {
          "output_type": "display_data",
          "data": {
            "text/plain": [
              "<Figure size 432x288 with 1 Axes>"
            ],
            "image/png": "[encoded data removed]"
          },
          "metadata": {
            "needs_background": "light"
          }
        }
      ]
    },
    {
      "cell_type": "code",
      "source": [
        "plt.plot(x,norm.cdf(x,0,1))\n",
        "plt.show()"
      ],
      "metadata": {
        "id": "CHCGKSu0JsZH",
        "colab": {
          "base_uri": "https://localhost:8080/",
          "height": 265
        },
        "outputId": "42110d42-d6a8-4dc4-cd3c-b5cb0334051b"
      },
      "execution_count": 194,
      "outputs": [
        {
          "output_type": "display_data",
          "data": {
            "text/plain": [
              "<Figure size 432x288 with 1 Axes>"
            ],
            "image/png": "[encoded data removed]"
          },
          "metadata": {
            "needs_background": "light"
          }
        }
      ]
    },
    {
      "cell_type": "markdown",
      "source": [
        "**C**"
      ],
      "metadata": {
        "id": "L6BxyBLE03NP"
      }
    },
    {
      "cell_type": "markdown",
      "source": [
        "One of the main differences between PDF and PMF is relevent to the random variables. PDF is for continous R.V while PMF is for discrete R.V.    \n",
        "PDF is the likelyhood of the R.V in the range of contious value while PMF is for dicrete R.V.\n",
        "\n",
        "  The PMF has all the probablities the same, and the pdf has probilities that differ."
      ],
      "metadata": {
        "id": "XgdoFId9M0TB"
      }
    },
    {
      "cell_type": "markdown",
      "source": [
        "**2A**"
      ],
      "metadata": {
        "id": "ISbh4ImpN4cL"
      }
    },
    {
      "cell_type": "code",
      "source": [
        "#import data set\n",
        "url =\"https://raw.githubusercontent.com/KhmAsif/IMSE441/main/OTT_platform_data.csv\"\n",
        "df =pd.read_csv(url)\n",
        "df.head()"
      ],
      "metadata": {
        "id": "WEkOOYZXN6mf",
        "colab": {
          "base_uri": "https://localhost:8080/",
          "height": 206
        },
        "outputId": "e2621776-0b1d-4ad7-d8fe-44105b126cae"
      },
      "execution_count": 195,
      "outputs": [
        {
          "output_type": "execute_result",
          "data": {
            "text/plain": [
              "       Platform  Time\n",
              "0       Netflix  0.21\n",
              "1  Amazon Prime  2.53\n",
              "2       Netflix  0.35\n",
              "3  Amazon Prime  0.71\n",
              "4       Netflix  0.67"
            ],
            "text/html": [
              "\n",
              "  <div id=\"df-a2af424c-acc5-4db4-9b8f-6840323e93fd\">\n",
              "    <div class=\"colab-df-container\">\n",
              "      <div>\n",
              "<style scoped>\n",
              "    .dataframe tbody tr th:only-of-type {\n",
              "        vertical-align: middle;\n",
              "    }\n",
              "\n",
              "    .dataframe tbody tr th {\n",
              "        vertical-align: top;\n",
              "    }\n",
              "\n",
              "    .dataframe thead th {\n",
              "        text-align: right;\n",
              "    }\n",
              "</style>\n",
              "<table border=\"1\" class=\"dataframe\">\n",
              "  <thead>\n",
              "    <tr style=\"text-align: right;\">\n",
              "      <th></th>\n",
              "      <th>Platform</th>\n",
              "      <th>Time</th>\n",
              "    </tr>\n",
              "  </thead>\n",
              "  <tbody>\n",
              "    <tr>\n",
              "      <th>0</th>\n",
              "      <td>Netflix</td>\n",
              "      <td>0.21</td>\n",
              "    </tr>\n",
              "    <tr>\n",
              "      <th>1</th>\n",
              "      <td>Amazon Prime</td>\n",
              "      <td>2.53</td>\n",
              "    </tr>\n",
              "    <tr>\n",
              "      <th>2</th>\n",
              "      <td>Netflix</td>\n",
              "      <td>0.35</td>\n",
              "    </tr>\n",
              "    <tr>\n",
              "      <th>3</th>\n",
              "      <td>Amazon Prime</td>\n",
              "      <td>0.71</td>\n",
              "    </tr>\n",
              "    <tr>\n",
              "      <th>4</th>\n",
              "      <td>Netflix</td>\n",
              "      <td>0.67</td>\n",
              "    </tr>\n",
              "  </tbody>\n",
              "</table>\n",
              "</div>\n",
              "      <button class=\"colab-df-convert\" onclick=\"convertToInteractive('df-a2af424c-acc5-4db4-9b8f-6840323e93fd')\"\n",
              "              title=\"Convert this dataframe to an interactive table.\"\n",
              "              style=\"display:none;\">\n",
              "        \n",
              "  <svg xmlns=\"http://www.w3.org/2000/svg\" height=\"24px\"viewBox=\"0 0 24 24\"\n",
              "       width=\"24px\">\n",
              "    <path d=\"M0 0h24v24H0V0z\" fill=\"none\"/>\n",
              "    <path d=\"M18.56 5.44l.94 2.06.94-2.06 2.06-.94-2.06-.94-.94-2.06-.94 2.06-2.06.94zm-11 1L8.5 8.5l.94-2.06 2.06-.94-2.06-.94L8.5 2.5l-.94 2.06-2.06.94zm10 10l.94 2.06.94-2.06 2.06-.94-2.06-.94-.94-2.06-.94 2.06-2.06.94z\"/><path d=\"M17.41 7.96l-1.37-1.37c-.4-.4-.92-.59-1.43-.59-.52 0-1.04.2-1.43.59L10.3 9.45l-7.72 7.72c-.78.78-.78 2.05 0 2.83L4 21.41c.39.39.9.59 1.41.59.51 0 1.02-.2 1.41-.59l7.78-7.78 2.81-2.81c.8-.78.8-2.07 0-2.86zM5.41 20L4 18.59l7.72-7.72 1.47 1.35L5.41 20z\"/>\n",
              "  </svg>\n",
              "      </button>\n",
              "      \n",
              "  <style>\n",
              "    .colab-df-container {\n",
              "      display:flex;\n",
              "      flex-wrap:wrap;\n",
              "      gap: 12px;\n",
              "    }\n",
              "\n",
              "    .colab-df-convert {\n",
              "      background-color: #E8F0FE;\n",
              "      border: none;\n",
              "      border-radius: 50%;\n",
              "      cursor: pointer;\n",
              "      display: none;\n",
              "      fill: #1967D2;\n",
              "      height: 32px;\n",
              "      padding: 0 0 0 0;\n",
              "      width: 32px;\n",
              "    }\n",
              "\n",
              "    .colab-df-convert:hover {\n",
              "      background-color: #E2EBFA;\n",
              "      box-shadow: 0px 1px 2px rgba(60, 64, 67, 0.3), 0px 1px 3px 1px rgba(60, 64, 67, 0.15);\n",
              "      fill: #174EA6;\n",
              "    }\n",
              "\n",
              "    [theme=dark] .colab-df-convert {\n",
              "      background-color: #3B4455;\n",
              "      fill: #D2E3FC;\n",
              "    }\n",
              "\n",
              "    [theme=dark] .colab-df-convert:hover {\n",
              "      background-color: #434B5C;\n",
              "      box-shadow: 0px 1px 3px 1px rgba(0, 0, 0, 0.15);\n",
              "      filter: drop-shadow(0px 1px 2px rgba(0, 0, 0, 0.3));\n",
              "      fill: #FFFFFF;\n",
              "    }\n",
              "  </style>\n",
              "\n",
              "      <script>\n",
              "        const buttonEl =\n",
              "          document.querySelector('#df-a2af424c-acc5-4db4-9b8f-6840323e93fd button.colab-df-convert');\n",
              "        buttonEl.style.display =\n",
              "          google.colab.kernel.accessAllowed ? 'block' : 'none';\n",
              "\n",
              "        async function convertToInteractive(key) {\n",
              "          const element = document.querySelector('#df-a2af424c-acc5-4db4-9b8f-6840323e93fd');\n",
              "          const dataTable =\n",
              "            await google.colab.kernel.invokeFunction('convertToInteractive',\n",
              "                                                     [key], {});\n",
              "          if (!dataTable) return;\n",
              "\n",
              "          const docLinkHtml = 'Like what you see? Visit the ' +\n",
              "            '<a target=\"_blank\" href=https://colab.research.google.com/notebooks/data_table.ipynb>data table notebook</a>'\n",
              "            + ' to learn more about interactive tables.';\n",
              "          element.innerHTML = '';\n",
              "          dataTable['output_type'] = 'display_data';\n",
              "          await google.colab.output.renderOutput(dataTable, element);\n",
              "          const docLink = document.createElement('div');\n",
              "          docLink.innerHTML = docLinkHtml;\n",
              "          element.appendChild(docLink);\n",
              "        }\n",
              "      </script>\n",
              "    </div>\n",
              "  </div>\n",
              "  "
            ]
          },
          "metadata": {},
          "execution_count": 195
        }
      ]
    },
    {
      "cell_type": "code",
      "source": [
        "#Data Cleaning \n",
        "df.isnull().sum()"
      ],
      "metadata": {
        "id": "1odwmH3EO4iQ",
        "colab": {
          "base_uri": "https://localhost:8080/"
        },
        "outputId": "6e384e57-a8d0-4380-8852-c1157999609f"
      },
      "execution_count": 196,
      "outputs": [
        {
          "output_type": "execute_result",
          "data": {
            "text/plain": [
              "Platform    1\n",
              "Time        2\n",
              "dtype: int64"
            ]
          },
          "metadata": {},
          "execution_count": 196
        }
      ]
    },
    {
      "cell_type": "code",
      "source": [
        "# Dropping nulls. \n",
        "df = df.dropna()\n",
        "df.info()"
      ],
      "metadata": {
        "id": "6GbP7A6FPADe",
        "colab": {
          "base_uri": "https://localhost:8080/"
        },
        "outputId": "fde5b4c2-0e70-4011-9f99-4c50bff7e02c"
      },
      "execution_count": 197,
      "outputs": [
        {
          "output_type": "stream",
          "name": "stdout",
          "text": [
            "<class 'pandas.core.frame.DataFrame'>\n",
            "Int64Index: 21 entries, 0 to 22\n",
            "Data columns (total 2 columns):\n",
            " #   Column    Non-Null Count  Dtype  \n",
            "---  ------    --------------  -----  \n",
            " 0   Platform  21 non-null     object \n",
            " 1   Time      21 non-null     float64\n",
            "dtypes: float64(1), object(1)\n",
            "memory usage: 504.0+ bytes\n"
          ]
        }
      ]
    },
    {
      "cell_type": "code",
      "source": [
        "df.columns"
      ],
      "metadata": {
        "id": "s1fPjIPNPFu9",
        "colab": {
          "base_uri": "https://localhost:8080/"
        },
        "outputId": "da723db9-b44f-4323-969b-8e3f0b2ea11f"
      },
      "execution_count": 198,
      "outputs": [
        {
          "output_type": "execute_result",
          "data": {
            "text/plain": [
              "Index(['Platform', 'Time'], dtype='object')"
            ]
          },
          "metadata": {},
          "execution_count": 198
        }
      ]
    },
    {
      "cell_type": "code",
      "source": [
        "df.columns = df.columns.str.replace(' ','')\n",
        "df.columns"
      ],
      "metadata": {
        "id": "UIjk3-V_UudJ",
        "colab": {
          "base_uri": "https://localhost:8080/"
        },
        "outputId": "322c511f-640b-4c03-e7f4-92b0d18aa06c"
      },
      "execution_count": 199,
      "outputs": [
        {
          "output_type": "execute_result",
          "data": {
            "text/plain": [
              "Index(['Platform', 'Time'], dtype='object')"
            ]
          },
          "metadata": {},
          "execution_count": 199
        }
      ]
    },
    {
      "cell_type": "code",
      "source": [
        "#Turning all the columns capitals into lower case.\n",
        "df.columns = df.columns.str.lower()\n",
        "df.columns"
      ],
      "metadata": {
        "id": "SX4wltgZPSBW",
        "colab": {
          "base_uri": "https://localhost:8080/"
        },
        "outputId": "5973698b-cf54-480d-ed2b-a366882d1d78"
      },
      "execution_count": 200,
      "outputs": [
        {
          "output_type": "execute_result",
          "data": {
            "text/plain": [
              "Index(['platform', 'time'], dtype='object')"
            ]
          },
          "metadata": {},
          "execution_count": 200
        }
      ]
    },
    {
      "cell_type": "markdown",
      "source": [
        "**B**"
      ],
      "metadata": {
        "id": "t-RqIuxLN7Gy"
      }
    },
    {
      "cell_type": "code",
      "source": [
        "Netflix=(df[df['platform']=='Netflix']['time'])\n",
        "Netflix"
      ],
      "metadata": {
        "id": "tdQD19JY-hQN",
        "colab": {
          "base_uri": "https://localhost:8080/"
        },
        "outputId": "d00b9633-45ea-4a81-edf8-cc805f12da52"
      },
      "execution_count": 201,
      "outputs": [
        {
          "output_type": "execute_result",
          "data": {
            "text/plain": [
              "0     0.21\n",
              "2     0.35\n",
              "4     0.67\n",
              "8     1.32\n",
              "10    0.68\n",
              "12    3.21\n",
              "14    1.47\n",
              "16    0.95\n",
              "18    0.45\n",
              "20    1.18\n",
              "22    3.42\n",
              "Name: time, dtype: float64"
            ]
          },
          "metadata": {},
          "execution_count": 201
        }
      ]
    },
    {
      "cell_type": "code",
      "source": [
        "Amazon=(df[df['platform']=='Amazon Prime']['time'])\n",
        "Amazon"
      ],
      "metadata": {
        "id": "l8RDi9SNWSEx",
        "colab": {
          "base_uri": "https://localhost:8080/"
        },
        "outputId": "2b9efa58-2c91-449b-d149-5e90f90a9a47"
      },
      "execution_count": 202,
      "outputs": [
        {
          "output_type": "execute_result",
          "data": {
            "text/plain": [
              "1     2.53\n",
              "3     0.71\n",
              "5     0.85\n",
              "7     2.46\n",
              "9     1.49\n",
              "13    3.33\n",
              "15    1.87\n",
              "17    1.26\n",
              "19    0.48\n",
              "21    1.47\n",
              "Name: time, dtype: float64"
            ]
          },
          "metadata": {},
          "execution_count": 202
        }
      ]
    },
    {
      "cell_type": "code",
      "source": [
        "df['time'].mean()"
      ],
      "metadata": {
        "id": "cJ6WSHf6TRiM",
        "colab": {
          "base_uri": "https://localhost:8080/"
        },
        "outputId": "95cdd11c-a9f3-4d3b-e8a9-f42ba23421dc"
      },
      "execution_count": 203,
      "outputs": [
        {
          "output_type": "execute_result",
          "data": {
            "text/plain": [
              "1.4457142857142857"
            ]
          },
          "metadata": {},
          "execution_count": 203
        }
      ]
    },
    {
      "cell_type": "code",
      "source": [
        "Amazon.mean()"
      ],
      "metadata": {
        "id": "ri4lqn__VhNi",
        "colab": {
          "base_uri": "https://localhost:8080/"
        },
        "outputId": "1a0ad62c-d7b5-4249-ea07-9318274ce698"
      },
      "execution_count": 204,
      "outputs": [
        {
          "output_type": "execute_result",
          "data": {
            "text/plain": [
              "1.645"
            ]
          },
          "metadata": {},
          "execution_count": 204
        }
      ]
    },
    {
      "cell_type": "code",
      "source": [
        "Netflix.mean()"
      ],
      "metadata": {
        "colab": {
          "base_uri": "https://localhost:8080/"
        },
        "id": "pQYGUZ9sBDGN",
        "outputId": "bda6f4f6-e20e-4291-a227-2aca0d6c4521"
      },
      "execution_count": 205,
      "outputs": [
        {
          "output_type": "execute_result",
          "data": {
            "text/plain": [
              "1.2645454545454546"
            ]
          },
          "metadata": {},
          "execution_count": 205
        }
      ]
    },
    {
      "cell_type": "markdown",
      "source": [
        "From the code below you can see that 11 people watch netflix and 10 people watch Amazon"
      ],
      "metadata": {
        "id": "Q5JoAyCiYgMq"
      }
    },
    {
      "cell_type": "markdown",
      "source": [
        "**C**"
      ],
      "metadata": {
        "id": "WFd6G5mlN729"
      }
    },
    {
      "cell_type": "code",
      "source": [
        "g.plot(kind = 'pie', autopct='%.2f', figsize = (10,6) )\n",
        "g = df.groupby('platform').size()\n",
        "g"
      ],
      "metadata": {
        "colab": {
          "base_uri": "https://localhost:8080/",
          "height": 426
        },
        "id": "mbAmeCffXbHR",
        "outputId": "8d331a8b-2d32-4c1d-95a7-84943127af68"
      },
      "execution_count": 206,
      "outputs": [
        {
          "output_type": "execute_result",
          "data": {
            "text/plain": [
              "platform\n",
              "Amazon Prime    10\n",
              "Netflix         11\n",
              "dtype: int64"
            ]
          },
          "metadata": {},
          "execution_count": 206
        },
        {
          "output_type": "display_data",
          "data": {
            "text/plain": [
              "<Figure size 720x432 with 1 Axes>"
            ],
            "image/png": "[encoded data removed]"
          },
          "metadata": {}
        }
      ]
    },
    {
      "cell_type": "markdown",
      "source": [
        "Based on the graph above I can say that just about 53 percent of people like Netflix better."
      ],
      "metadata": {
        "id": "xjD1MGTGYUVZ"
      }
    },
    {
      "cell_type": "markdown",
      "source": [
        "**D**"
      ],
      "metadata": {
        "id": "bR_wIijh6Jv9"
      }
    },
    {
      "cell_type": "code",
      "source": [
        "plt.figure(figsize=(15,10))\n",
        "plt.boxplot([Netflix,Amazon])\n",
        "plt.title('Netflix vs Amazon' )\n",
        "plt.xlabel('Type')\n",
        "plt.ylabel('Time')\n",
        "plt.show()\n",
        "     "
      ],
      "metadata": {
        "id": "e0_PkO1l6KpN",
        "colab": {
          "base_uri": "https://localhost:8080/",
          "height": 551
        },
        "outputId": "35735d9b-1b59-478a-d68e-48ab35941268"
      },
      "execution_count": 207,
      "outputs": [
        {
          "output_type": "display_data",
          "data": {
            "text/plain": [
              "<Figure size 1080x720 with 1 Axes>"
            ],
            "image/png": "[encoded data removed]"
          },
          "metadata": {
            "needs_background": "light"
          }
        }
      ]
    },
    {
      "cell_type": "markdown",
      "source": [
        "Based on the case above it looks to have the median on Netflix as 1.0 and the median of amazon at 1.5"
      ],
      "metadata": {
        "id": "qIui8Ic8CPS7"
      }
    },
    {
      "cell_type": "markdown",
      "source": [
        "**3A**"
      ],
      "metadata": {
        "id": "GaT09o3D6LLc"
      }
    },
    {
      "cell_type": "code",
      "source": [
        "#Plotting to check the Normalitiy of the data.\n",
        "plt.show()\n",
        "pg.qqplot(df['time']).set_title('Our Data')"
      ],
      "metadata": {
        "id": "b0UCUmTZ6NEV",
        "colab": {
          "base_uri": "https://localhost:8080/",
          "height": 312
        },
        "outputId": "3bde7fa5-d47b-44e3-8630-3ce299c5c8d9"
      },
      "execution_count": 208,
      "outputs": [
        {
          "output_type": "execute_result",
          "data": {
            "text/plain": [
              "Text(0.5, 1.0, 'Our Data')"
            ]
          },
          "metadata": {},
          "execution_count": 208
        },
        {
          "output_type": "display_data",
          "data": {
            "text/plain": [
              "<Figure size 432x288 with 1 Axes>"
            ],
            "image/png": "[encoded data removed]"
          },
          "metadata": {
            "needs_background": "light"
          }
        }
      ]
    },
    {
      "cell_type": "code",
      "source": [
        "#Second Testing\n",
        "# Hypothesis testing for normallity\n",
        "print(stats.normaltest(df['time']))"
      ],
      "metadata": {
        "colab": {
          "base_uri": "https://localhost:8080/"
        },
        "id": "goO6Ao_D7cmd",
        "outputId": "77cd6435-d337-4b3a-97c1-277df96847fc"
      },
      "execution_count": 209,
      "outputs": [
        {
          "output_type": "stream",
          "name": "stdout",
          "text": [
            "NormaltestResult(statistic=2.9693617401687833, pvalue=0.22657463588450225)\n"
          ]
        }
      ]
    },
    {
      "cell_type": "markdown",
      "source": [
        "B."
      ],
      "metadata": {
        "id": "u5z7HOQX8zL8"
      }
    },
    {
      "cell_type": "code",
      "source": [
        "# The P value was high so it is normal dist\n",
        "#Perform ttesting\n",
        "stats.ttest_1samp(df['time'],0.83)"
      ],
      "metadata": {
        "colab": {
          "base_uri": "https://localhost:8080/"
        },
        "id": "TK-2nEc67yVr",
        "outputId": "749b127c-b725-465f-ac95-8ab0d891ca04"
      },
      "execution_count": 210,
      "outputs": [
        {
          "output_type": "execute_result",
          "data": {
            "text/plain": [
              "TtestResult(statistic=2.817958669950323, pvalue=0.010626190992228224, df=20)"
            ]
          },
          "metadata": {},
          "execution_count": 210
        }
      ]
    },
    {
      "cell_type": "code",
      "source": [
        "T,P = stats.ttest_1samp(df['time'],0.83)\n",
        "T, P"
      ],
      "metadata": {
        "colab": {
          "base_uri": "https://localhost:8080/"
        },
        "id": "fMC6Ad008OlN",
        "outputId": "2b926232-822c-4f3d-f51f-87aded7de2b8"
      },
      "execution_count": 211,
      "outputs": [
        {
          "output_type": "execute_result",
          "data": {
            "text/plain": [
              "(2.817958669950323, 0.010626190992228224)"
            ]
          },
          "metadata": {},
          "execution_count": 211
        }
      ]
    },
    {
      "cell_type": "code",
      "source": [
        "CI= stats.ttest_1samp(df['time'],0.83).confidence_interval(confidence_level=0.99)\n",
        "CI"
      ],
      "metadata": {
        "colab": {
          "base_uri": "https://localhost:8080/"
        },
        "id": "KtviL6RUhsLL",
        "outputId": "53f9c927-132b-43d6-e68c-d784405cf8df"
      },
      "execution_count": 212,
      "outputs": [
        {
          "output_type": "execute_result",
          "data": {
            "text/plain": [
              "ConfidenceInterval(low=0.8240173368904734, high=2.067411234538098)"
            ]
          },
          "metadata": {},
          "execution_count": 212
        }
      ]
    },
    {
      "cell_type": "code",
      "source": [
        "if P < 0.01:\n",
        "  print(\"Reject Null Hypothesis i.e. actual mean is NOT 0.83\")\n",
        "else:\n",
        "  print(\"Accept Null Hypothesis i.e. actual mean is 0.83\")"
      ],
      "metadata": {
        "colab": {
          "base_uri": "https://localhost:8080/"
        },
        "id": "Blnvismu8TY2",
        "outputId": "70149975-79b5-4c1c-cc91-39607a4f2635"
      },
      "execution_count": 213,
      "outputs": [
        {
          "output_type": "stream",
          "name": "stdout",
          "text": [
            "Accept Null Hypothesis i.e. actual mean is 0.83\n"
          ]
        }
      ]
    },
    {
      "cell_type": "markdown",
      "source": [
        "Based on a 99% CI it barley fits in the range to be apart of the mean."
      ],
      "metadata": {
        "id": "g9ww1Tw4hYT7"
      }
    },
    {
      "cell_type": "code",
      "source": [],
      "metadata": {
        "id": "eFK_r7r_8elz"
      },
      "execution_count": 213,
      "outputs": []
    },
    {
      "cell_type": "markdown",
      "source": [
        "**C**"
      ],
      "metadata": {
        "id": "u3Lz4Gs_9PBN"
      }
    },
    {
      "cell_type": "markdown",
      "source": [
        "It is a two sided CI"
      ],
      "metadata": {
        "id": "Zqb5eoKg9QTN"
      }
    },
    {
      "cell_type": "markdown",
      "source": [
        "**D**"
      ],
      "metadata": {
        "id": "wdDHtDXW9V5k"
      }
    },
    {
      "cell_type": "code",
      "source": [
        "# The degrees of freedom\n",
        "len(df)-1"
      ],
      "metadata": {
        "id": "1t6MfELh9XP-",
        "colab": {
          "base_uri": "https://localhost:8080/"
        },
        "outputId": "5470483f-8bc7-4729-d634-ee0d93cae26c"
      },
      "execution_count": 214,
      "outputs": [
        {
          "output_type": "execute_result",
          "data": {
            "text/plain": [
              "20"
            ]
          },
          "metadata": {},
          "execution_count": 214
        }
      ]
    },
    {
      "cell_type": "markdown",
      "source": [
        "**E**"
      ],
      "metadata": {
        "id": "ZQEwLcDl9fsk"
      }
    },
    {
      "cell_type": "code",
      "source": [
        " df['time'].mean()"
      ],
      "metadata": {
        "colab": {
          "base_uri": "https://localhost:8080/"
        },
        "id": "5XQK8B8-9hA0",
        "outputId": "ea4e05f8-b514-46d6-ab25-1869b0db91b2"
      },
      "execution_count": 215,
      "outputs": [
        {
          "output_type": "execute_result",
          "data": {
            "text/plain": [
              "1.4457142857142857"
            ]
          },
          "metadata": {},
          "execution_count": 215
        }
      ]
    },
    {
      "cell_type": "markdown",
      "source": [
        "## It is the acutal mean for the dataset.\n"
      ],
      "metadata": {
        "id": "M3tqRX9t9o_T"
      }
    },
    {
      "cell_type": "markdown",
      "source": [
        "The Mean of 0.83 can be a sample mean."
      ],
      "metadata": {
        "id": "cDlEadBWiRGg"
      }
    }
  ]
}