{
  "nbformat": 4,
  "nbformat_minor": 0,
  "metadata": {
    "colab": {
      "provenance": [],
      "authorship_tag": "ABX9TyOkzakej19HvBQooG16mrKq",
      "include_colab_link": true
    },
    "kernelspec": {
      "name": "python3",
      "display_name": "Python 3"
    },
    "language_info": {
      "name": "python"
    }
  },
  "cells": [
    {
      "cell_type": "markdown",
      "metadata": {
        "id": "view-in-github",
        "colab_type": "text"
      },
      "source": [
        "<a href=\"https://colab.research.google.com/github/MichaelBarfuss/Intro-to-Analytics/blob/main/Lab05.ipynb\" target=\"_parent\"><img src=\"https://colab.research.google.com/assets/colab-badge.svg\" alt=\"Open In Colab\"/></a>"
      ]
    },
    {
      "cell_type": "code",
      "source": [
        "\n",
        "import numpy as np\n",
        "import matplotlib.pyplot as plt\n",
        "from scipy.stats import expon"
      ],
      "metadata": {
        "id": "YR3YAPc1AxGF"
      },
      "execution_count": 1,
      "outputs": []
    },
    {
      "cell_type": "markdown",
      "source": [
        "**4.7.8**"
      ],
      "metadata": {
        "id": "55eTOtrhDN1K"
      }
    },
    {
      "cell_type": "markdown",
      "source": [
        "A"
      ],
      "metadata": {
        "id": "UvzmH1hnJslN"
      }
    },
    {
      "cell_type": "code",
      "source": [
        "expon.cdf(x=1/10,scale=1/5)"
      ],
      "metadata": {
        "id": "XXTPB9qzKHFD",
        "colab": {
          "base_uri": "https://localhost:8080/"
        },
        "outputId": "524cfd96-56b1-4600-cee2-1e4b325c209f"
      },
      "execution_count": 2,
      "outputs": [
        {
          "output_type": "execute_result",
          "data": {
            "text/plain": [
              "0.3934693402873666"
            ]
          },
          "metadata": {},
          "execution_count": 2
        }
      ]
    },
    {
      "cell_type": "markdown",
      "source": [
        "B"
      ],
      "metadata": {
        "id": "Q1KuZOr2JyOO"
      }
    },
    {
      "cell_type": "code",
      "source": [
        "expon.cdf(x=2/10,scale=1/5)"
      ],
      "metadata": {
        "id": "nW8Sh8xTKH6X",
        "colab": {
          "base_uri": "https://localhost:8080/"
        },
        "outputId": "091d2353-df45-4917-96c0-aced4ea82d03"
      },
      "execution_count": 3,
      "outputs": [
        {
          "output_type": "execute_result",
          "data": {
            "text/plain": [
              "0.6321205588285577"
            ]
          },
          "metadata": {},
          "execution_count": 3
        }
      ]
    },
    {
      "cell_type": "markdown",
      "source": [
        "C"
      ],
      "metadata": {
        "id": "3l8XTKq9JyIE"
      }
    },
    {
      "cell_type": "code",
      "source": [
        " expon.std(scale=1/5)"
      ],
      "metadata": {
        "id": "fRouUvBYKIe5",
        "colab": {
          "base_uri": "https://localhost:8080/"
        },
        "outputId": "d25c0f67-c917-4dbc-d33a-75e6a3dc2028"
      },
      "execution_count": 4,
      "outputs": [
        {
          "output_type": "execute_result",
          "data": {
            "text/plain": [
              "0.2"
            ]
          },
          "metadata": {},
          "execution_count": 4
        }
      ]
    },
    {
      "cell_type": "markdown",
      "source": [
        "D"
      ],
      "metadata": {
        "id": "t8x8NabdJx_h"
      }
    },
    {
      "cell_type": "code",
      "source": [
        "y= expon.cdf(x=1/3,scale=1/5)\n",
        "y"
      ],
      "metadata": {
        "id": "rLu6pD1JKJH4",
        "colab": {
          "base_uri": "https://localhost:8080/"
        },
        "outputId": "5ccbff80-f7d7-49f2-9bbb-4a18b81167f8"
      },
      "execution_count": 26,
      "outputs": [
        {
          "output_type": "execute_result",
          "data": {
            "text/plain": [
              "0.8111243971624381"
            ]
          },
          "metadata": {},
          "execution_count": 26
        }
      ]
    },
    {
      "cell_type": "markdown",
      "source": [
        "E"
      ],
      "metadata": {
        "id": "n7JNKujqJxtD"
      }
    },
    {
      "cell_type": "code",
      "source": [
        "expon.cdf(x=1/5,scale=1/5)"
      ],
      "metadata": {
        "id": "DXO9SSUfKJsn",
        "colab": {
          "base_uri": "https://localhost:8080/"
        },
        "outputId": "cd9b7eff-9f4d-45b2-da75-d258d21b95f2"
      },
      "execution_count": 25,
      "outputs": [
        {
          "output_type": "execute_result",
          "data": {
            "text/plain": [
              "0.6321205588285577"
            ]
          },
          "metadata": {},
          "execution_count": 25
        }
      ]
    },
    {
      "cell_type": "markdown",
      "source": [
        "F"
      ],
      "metadata": {
        "id": "-i9cg9SQJxaj"
      }
    },
    {
      "cell_type": "code",
      "source": [
        "expon.cdf(x=1/10,scale=1/5)"
      ],
      "metadata": {
        "id": "_k8Z0WKwKKYw"
      },
      "execution_count": null,
      "outputs": []
    },
    {
      "cell_type": "markdown",
      "source": [
        "**4.7.10** "
      ],
      "metadata": {
        "id": "zM_X8UXJJ6v0"
      }
    },
    {
      "cell_type": "markdown",
      "source": [
        "A"
      ],
      "metadata": {
        "id": "wKkSIO3zJ8cF"
      }
    },
    {
      "cell_type": "code",
      "source": [
        "\n",
        "1-expon.cdf(x=3,scale=1)\n",
        "\n"
      ],
      "metadata": {
        "id": "ivJmII1yKEO2",
        "colab": {
          "base_uri": "https://localhost:8080/"
        },
        "outputId": "31f1319c-4208-4ed4-ca12-7151391a85e1"
      },
      "execution_count": 21,
      "outputs": [
        {
          "output_type": "execute_result",
          "data": {
            "text/plain": [
              "0.04978706836786395"
            ]
          },
          "metadata": {},
          "execution_count": 21
        }
      ]
    },
    {
      "cell_type": "markdown",
      "source": [
        "B"
      ],
      "metadata": {
        "id": "ySKuakx0J9DO"
      }
    },
    {
      "cell_type": "code",
      "source": [
        "expon.cdf(x=3,scale=1)"
      ],
      "metadata": {
        "id": "4GSWXQzzKEs9",
        "colab": {
          "base_uri": "https://localhost:8080/"
        },
        "outputId": "fdd1ab3a-5dc9-40c0-d172-d3b33076f2d6"
      },
      "execution_count": 24,
      "outputs": [
        {
          "output_type": "execute_result",
          "data": {
            "text/plain": [
              "0.950212931632136"
            ]
          },
          "metadata": {},
          "execution_count": 24
        }
      ]
    },
    {
      "cell_type": "markdown",
      "source": [
        "C"
      ],
      "metadata": {
        "id": "CHxjlPqGJ9u5"
      }
    },
    {
      "cell_type": "code",
      "source": [
        "expon.cdf(x=0.1,scale=1)"
      ],
      "metadata": {
        "id": "WyS9T2JVKFL3",
        "colab": {
          "base_uri": "https://localhost:8080/"
        },
        "outputId": "acfe2ac0-04df-4314-bfbf-7010937d1469"
      },
      "execution_count": 27,
      "outputs": [
        {
          "output_type": "execute_result",
          "data": {
            "text/plain": [
              "0.09516258196404044"
            ]
          },
          "metadata": {},
          "execution_count": 27
        }
      ]
    },
    {
      "cell_type": "markdown",
      "source": [
        "D"
      ],
      "metadata": {
        "id": "6Obooeg7J-L6"
      }
    },
    {
      "cell_type": "code",
      "source": [
        "expon.cdf(x=1.5,scale=1)"
      ],
      "metadata": {
        "id": "vgSiNIWDKFjn",
        "colab": {
          "base_uri": "https://localhost:8080/"
        },
        "outputId": "ec8c21ce-3e7a-47f8-a186-249c99210b1c"
      },
      "execution_count": 22,
      "outputs": [
        {
          "output_type": "execute_result",
          "data": {
            "text/plain": [
              "0.7768698398515702"
            ]
          },
          "metadata": {},
          "execution_count": 22
        }
      ]
    },
    {
      "cell_type": "markdown",
      "source": [
        "**4.9.7**"
      ],
      "metadata": {
        "id": "3bJAWMwHAM7F"
      }
    },
    {
      "cell_type": "code",
      "execution_count": 6,
      "metadata": {
        "id": "oLyyj1tpwOuS"
      },
      "outputs": [],
      "source": [
        "from scipy.stats.distributions import weibull_min"
      ]
    },
    {
      "cell_type": "markdown",
      "source": [
        "A"
      ],
      "metadata": {
        "id": "Lkeqxw7IJkAn"
      }
    },
    {
      "cell_type": "code",
      "source": [
        "P5000=1-weibull_min.cdf(1.25,c=2,scale=1)\n",
        "P5000"
      ],
      "metadata": {
        "id": "9spySnICAwXh",
        "colab": {
          "base_uri": "https://localhost:8080/"
        },
        "outputId": "e95b01db-54ee-47e9-c351-69f4ec9c87d5"
      },
      "execution_count": 7,
      "outputs": [
        {
          "output_type": "execute_result",
          "data": {
            "text/plain": [
              "0.20961138715109784"
            ]
          },
          "metadata": {},
          "execution_count": 7
        }
      ]
    },
    {
      "cell_type": "markdown",
      "source": [
        "B"
      ],
      "metadata": {
        "id": "tpvnDjSZJlNv"
      }
    },
    {
      "cell_type": "code",
      "source": [
        "P3000=1-weibull_min.cdf(0.75,c=2,scale=1)\n",
        "P3000"
      ],
      "metadata": {
        "id": "Z4j5zYeBCWPZ",
        "colab": {
          "base_uri": "https://localhost:8080/"
        },
        "outputId": "3b253248-7d4e-436e-efbf-b5bc5797f82c"
      },
      "execution_count": 8,
      "outputs": [
        {
          "output_type": "execute_result",
          "data": {
            "text/plain": [
              "0.569782824730923"
            ]
          },
          "metadata": {},
          "execution_count": 8
        }
      ]
    },
    {
      "cell_type": "code",
      "source": [
        "P8000=1-weibull_min.cdf(2,c=2,scale=1)\n",
        "P8000"
      ],
      "metadata": {
        "id": "1zzps7DkB1Bt",
        "colab": {
          "base_uri": "https://localhost:8080/"
        },
        "outputId": "7c0608d3-b26b-419d-ed25-20c91d253d8c"
      },
      "execution_count": 9,
      "outputs": [
        {
          "output_type": "execute_result",
          "data": {
            "text/plain": [
              "0.01831563888873422"
            ]
          },
          "metadata": {},
          "execution_count": 9
        }
      ]
    },
    {
      "cell_type": "code",
      "source": [
        "P= P8000/P3000\n",
        "P"
      ],
      "metadata": {
        "id": "ysfU0ZgGCpLC",
        "colab": {
          "base_uri": "https://localhost:8080/"
        },
        "outputId": "084ee476-5362-4d4d-f084-977f8b11b50a"
      },
      "execution_count": 10,
      "outputs": [
        {
          "output_type": "execute_result",
          "data": {
            "text/plain": [
              "0.032144947326876144"
            ]
          },
          "metadata": {},
          "execution_count": 10
        }
      ]
    },
    {
      "cell_type": "markdown",
      "source": [
        "C"
      ],
      "metadata": {
        "id": "vIn24vL3JnEF"
      }
    },
    {
      "cell_type": "markdown",
      "source": [
        "**4.9.12**"
      ],
      "metadata": {
        "id": "xmDtgitUFvDk"
      }
    },
    {
      "cell_type": "markdown",
      "source": [
        "A"
      ],
      "metadata": {
        "id": "Ar-JM9JrJWnj"
      }
    },
    {
      "cell_type": "code",
      "source": [
        "P2=weibull_min.cdf(1.03535746,c=0.8472,scale=1)\n",
        "P2"
      ],
      "metadata": {
        "id": "6nWspE16Fum1"
      },
      "execution_count": null,
      "outputs": []
    },
    {
      "cell_type": "markdown",
      "source": [
        "B"
      ],
      "metadata": {
        "id": "3qqq98gjJYy3"
      }
    },
    {
      "cell_type": "code",
      "source": [
        "P4=weibull_min.cdf(2.07071491,c=0.8472,scale=1)\n",
        "P4"
      ],
      "metadata": {
        "id": "DKZqW4NvHmrR"
      },
      "execution_count": null,
      "outputs": []
    },
    {
      "cell_type": "code",
      "source": [
        "P4/P2"
      ],
      "metadata": {
        "id": "-tfTUR0hIJk2"
      },
      "execution_count": null,
      "outputs": []
    },
    {
      "cell_type": "markdown",
      "source": [
        "C"
      ],
      "metadata": {
        "id": "bodbI_KpJcap"
      }
    },
    {
      "cell_type": "code",
      "source": [
        "weibull_min.ppf(0.05,c=0.8472, scale=1.9317)"
      ],
      "metadata": {
        "id": "sHKSvUV6JdaJ",
        "colab": {
          "base_uri": "https://localhost:8080/"
        },
        "outputId": "b005a3ce-1fc7-4a29-b691-3947a62f0831"
      },
      "execution_count": 29,
      "outputs": [
        {
          "output_type": "execute_result",
          "data": {
            "text/plain": [
              "0.05798935950477032"
            ]
          },
          "metadata": {},
          "execution_count": 29
        }
      ]
    },
    {
      "cell_type": "code",
      "source": [],
      "metadata": {
        "id": "j25AZwRBsaOJ"
      },
      "execution_count": null,
      "outputs": []
    },
    {
      "cell_type": "markdown",
      "source": [
        "D"
      ],
      "metadata": {
        "id": "XKicnUDtJbR_"
      }
    },
    {
      "cell_type": "code",
      "source": [
        "m= weibull_min.mean(c=0.8472,scale=1.9317)\n",
        "m"
      ],
      "metadata": {
        "id": "C3AtrBgoIODi"
      },
      "execution_count": null,
      "outputs": []
    },
    {
      "cell_type": "code",
      "source": [
        "s=weibull_min.std(c=0.8472,scale=1.9317)\n",
        "s"
      ],
      "metadata": {
        "id": "dCTwFiMXIzPG"
      },
      "execution_count": null,
      "outputs": []
    }
  ]
}