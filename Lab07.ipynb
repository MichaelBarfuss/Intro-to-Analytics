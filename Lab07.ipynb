{
  "nbformat": 4,
  "nbformat_minor": 0,
  "metadata": {
    "colab": {
      "provenance": [],
      "authorship_tag": "ABX9TyMXxW2CoaZDeXo3g0CCUpJp",
      "include_colab_link": true
    },
    "kernelspec": {
      "name": "python3",
      "display_name": "Python 3"
    },
    "language_info": {
      "name": "python"
    }
  },
  "cells": [
    {
      "cell_type": "markdown",
      "metadata": {
        "id": "view-in-github",
        "colab_type": "text"
      },
      "source": [
        "<a href=\"https://colab.research.google.com/github/MichaelBarfuss/Intro-to-Analytics/blob/main/Lab07.ipynb\" target=\"_parent\"><img src=\"https://colab.research.google.com/assets/colab-badge.svg\" alt=\"Open In Colab\"/></a>"
      ]
    },
    {
      "cell_type": "code",
      "execution_count": null,
      "metadata": {
        "id": "MzX2GtY7FPAu"
      },
      "outputs": [],
      "source": [
        "import numpy as np\n",
        "import matplotlib.pyplot as plt\n",
        "from scipy.stats import ttest_1samp\n",
        "%pip install pingouin\n",
        "import pingouin as pg"
      ]
    },
    {
      "cell_type": "code",
      "source": [
        "#Example for Beerios\n",
        "#H0= 9 grams, H1 != 9\n",
        "beerios = 9.16, 8.57, 9.54, 8.70, 9.33, 9.43, 8.39, 9.47, 8.66, 9.01"
      ],
      "metadata": {
        "id": "Tsl-8mAQFqoD"
      },
      "execution_count": 2,
      "outputs": []
    },
    {
      "cell_type": "code",
      "source": [
        "#Normality Check\n",
        "pg.qqplot(beerios)\n",
        "plt.show()"
      ],
      "metadata": {
        "id": "xfCB8yrqGdsh",
        "colab": {
          "base_uri": "https://localhost:8080/",
          "height": 279
        },
        "outputId": "df00a338-f448-498b-9c07-11c3c738df47"
      },
      "execution_count": 3,
      "outputs": [
        {
          "output_type": "display_data",
          "data": {
            "text/plain": [
              "<Figure size 432x288 with 1 Axes>"
            ],
            "image/png": "[encoded data removed]"
          },
          "metadata": {
            "needs_background": "light"
          }
        }
      ]
    },
    {
      "cell_type": "code",
      "source": [
        "ttest_1samp(a=beerios, popmean= 9)"
      ],
      "metadata": {
        "id": "iELCdPLgGAQy",
        "colab": {
          "base_uri": "https://localhost:8080/"
        },
        "outputId": "ac90579c-421a-4f97-d55d-4c41800aae6a"
      },
      "execution_count": 4,
      "outputs": [
        {
          "output_type": "execute_result",
          "data": {
            "text/plain": [
              "TtestResult(statistic=0.19574525062921205, pvalue=0.8491577226110049, df=9)"
            ]
          },
          "metadata": {},
          "execution_count": 4
        }
      ]
    },
    {
      "cell_type": "code",
      "source": [
        "t_stat, p_value= ttest_1samp(a=beerios, popmean= 9)"
      ],
      "metadata": {
        "id": "9f0LtbWcGC1f"
      },
      "execution_count": 5,
      "outputs": []
    },
    {
      "cell_type": "code",
      "source": [
        "p_value"
      ],
      "metadata": {
        "id": "GaeA_vZMGWEX",
        "colab": {
          "base_uri": "https://localhost:8080/"
        },
        "outputId": "d85c09da-e26b-4e6b-c157-704658a84b2a"
      },
      "execution_count": 6,
      "outputs": [
        {
          "output_type": "execute_result",
          "data": {
            "text/plain": [
              "0.8491577226110049"
            ]
          },
          "metadata": {},
          "execution_count": 6
        }
      ]
    },
    {
      "cell_type": "code",
      "source": [
        "if p_value < 0.05:\n",
        "  print(\"We reject the null hypothesis\")\n",
        "\n",
        "else:\n",
        "  print(\"We fail to rejet the null hypothesis\")"
      ],
      "metadata": {
        "id": "pnUS2G-tH8-d",
        "colab": {
          "base_uri": "https://localhost:8080/"
        },
        "outputId": "4dea0052-ed31-48ac-cf3a-f90032639ef9"
      },
      "execution_count": 7,
      "outputs": [
        {
          "output_type": "stream",
          "name": "stdout",
          "text": [
            "We fail to rejet the null hypothesis\n"
          ]
        }
      ]
    },
    {
      "cell_type": "code",
      "source": [
        "CI= ttest_1samp(beerios,9).confidence_interval(confidence_level=0.95)\n",
        "CI"
      ],
      "metadata": {
        "colab": {
          "base_uri": "https://localhost:8080/"
        },
        "id": "16-jpVlGIVc9",
        "outputId": "064bef4c-4e6c-4a89-bd49-589309f5b4d3"
      },
      "execution_count": 8,
      "outputs": [
        {
          "output_type": "execute_result",
          "data": {
            "text/plain": [
              "ConfidenceInterval(low=8.725527390615076, high=9.326472609384924)"
            ]
          },
          "metadata": {},
          "execution_count": 8
        }
      ]
    },
    {
      "cell_type": "code",
      "source": [
        "#Example Golf club\n",
        "#Hypothesis  H0= 0.82, H1 > 0.82\n",
        "Club= [0.8411, 0.8191, 0.8182, 0.8125, 0.8750, 0.8580, 0.8532, 0.8483, 0.8276, 0.7983, 0.8042, 0.8730, 0.8282, 0.8359, 0.8660]"
      ],
      "metadata": {
        "id": "zrDcGB8oJNbe"
      },
      "execution_count": 9,
      "outputs": []
    },
    {
      "cell_type": "code",
      "source": [
        "#normality check\n",
        "pg.qqplot(Club)\n",
        "plt.show()"
      ],
      "metadata": {
        "id": "uEGJ1oohJP-s"
      },
      "execution_count": null,
      "outputs": []
    },
    {
      "cell_type": "code",
      "source": [
        "#t_test\n",
        "ttest_1samp(a=Club, popmean= 0.82)"
      ],
      "metadata": {
        "id": "fJRJv7bEJTjR",
        "colab": {
          "base_uri": "https://localhost:8080/"
        },
        "outputId": "f8cb5ca9-5eae-432e-b11f-8c3d71cff66f"
      },
      "execution_count": 11,
      "outputs": [
        {
          "output_type": "execute_result",
          "data": {
            "text/plain": [
              "TtestResult(statistic=2.718978782525142, pvalue=0.016626737363021643, df=14)"
            ]
          },
          "metadata": {},
          "execution_count": 11
        }
      ]
    },
    {
      "cell_type": "code",
      "source": [
        "CI= ttest_1samp(Club,0.82).confidence_interval(confidence_level=0.95)\n",
        "CI"
      ],
      "metadata": {
        "id": "pqZAdyFtJWwl",
        "colab": {
          "base_uri": "https://localhost:8080/"
        },
        "outputId": "bc326ad8-3184-4f8c-f18c-42b2091ecfa2"
      },
      "execution_count": 12,
      "outputs": [
        {
          "output_type": "execute_result",
          "data": {
            "text/plain": [
              "ConfidenceInterval(low=0.8236407315035582, high=0.8508392684964418)"
            ]
          },
          "metadata": {},
          "execution_count": 12
        }
      ]
    },
    {
      "cell_type": "code",
      "source": [
        "np.mean(Club)"
      ],
      "metadata": {
        "id": "twqMCXqHJd49",
        "colab": {
          "base_uri": "https://localhost:8080/"
        },
        "outputId": "844070eb-25f5-429a-bee4-71844ae76e34"
      },
      "execution_count": 13,
      "outputs": [
        {
          "output_type": "execute_result",
          "data": {
            "text/plain": [
              "0.83724"
            ]
          },
          "metadata": {},
          "execution_count": 13
        }
      ]
    },
    {
      "cell_type": "code",
      "source": [
        "t_stat, p_value= ttest_1samp(a=Club, popmean= 0.82)\n",
        "if p_value < 0.05:\n",
        "  print(\"We reject the null hypothesis\")\n",
        "else:\n",
        "  print(\"We fail to rejet the null hypothesis\")"
      ],
      "metadata": {
        "id": "7nUwjC0AJiCL",
        "colab": {
          "base_uri": "https://localhost:8080/"
        },
        "outputId": "1c3678a2-38e1-45f6-c583-ec2f51c22fa8"
      },
      "execution_count": 14,
      "outputs": [
        {
          "output_type": "stream",
          "name": "stdout",
          "text": [
            "We reject the null hypothesis\n"
          ]
        }
      ]
    },
    {
      "cell_type": "code",
      "source": [
        "#Normal approximation of Poisson distribution\n",
        "import scipy.stats as stats\n",
        "\n",
        "pop= stats.poisson.rvs(loc=18, mu= 35, size= 1500)\n",
        "samp_1= stats.poisson.rvs(loc=18, mu= 35, size= 60) \n",
        "samp_2= stats.poisson.rvs(loc=18, mu= 30, size= 60)"
      ],
      "metadata": {
        "id": "a5Ct3LxxJkWc"
      },
      "execution_count": 15,
      "outputs": []
    },
    {
      "cell_type": "code",
      "source": [
        "pg.qqplot(samp_1)\n",
        "plt.show()"
      ],
      "metadata": {
        "id": "cC6bGSx1JtQ4",
        "colab": {
          "base_uri": "https://localhost:8080/",
          "height": 279
        },
        "outputId": "2c19de78-4744-4321-f43c-4eeb415b3ea0"
      },
      "execution_count": 16,
      "outputs": [
        {
          "output_type": "display_data",
          "data": {
            "text/plain": [
              "<Figure size 432x288 with 1 Axes>"
            ],
            "image/png": "[encoded data removed]"
          },
          "metadata": {
            "needs_background": "light"
          }
        }
      ]
    },
    {
      "cell_type": "code",
      "source": [
        "pg.qqplot(samp_2)\n",
        "plt.show()"
      ],
      "metadata": {
        "id": "ftUzDirLJ2Y9",
        "colab": {
          "base_uri": "https://localhost:8080/",
          "height": 279
        },
        "outputId": "9cd66942-a55f-4a14-d20b-8da993bcd97f"
      },
      "execution_count": 17,
      "outputs": [
        {
          "output_type": "display_data",
          "data": {
            "text/plain": [
              "<Figure size 432x288 with 1 Axes>"
            ],
            "image/png": "[encoded data removed]"
          },
          "metadata": {
            "needs_background": "light"
          }
        }
      ]
    },
    {
      "cell_type": "code",
      "source": [
        "pop.mean()"
      ],
      "metadata": {
        "id": "tkjcEvG6J5BH",
        "colab": {
          "base_uri": "https://localhost:8080/"
        },
        "outputId": "1a2c964a-5524-4242-ceb5-0e091edce18d"
      },
      "execution_count": 18,
      "outputs": [
        {
          "output_type": "execute_result",
          "data": {
            "text/plain": [
              "53.15"
            ]
          },
          "metadata": {},
          "execution_count": 18
        }
      ]
    },
    {
      "cell_type": "code",
      "source": [
        "samp_1.mean()"
      ],
      "metadata": {
        "id": "08ZgWVfEJ6Cs",
        "colab": {
          "base_uri": "https://localhost:8080/"
        },
        "outputId": "a320876f-22f2-461f-f5df-550a4e427b71"
      },
      "execution_count": 19,
      "outputs": [
        {
          "output_type": "execute_result",
          "data": {
            "text/plain": [
              "53.68333333333333"
            ]
          },
          "metadata": {},
          "execution_count": 19
        }
      ]
    },
    {
      "cell_type": "code",
      "source": [
        "samp_2.mean()"
      ],
      "metadata": {
        "id": "P_jhvEm4J7Mu",
        "colab": {
          "base_uri": "https://localhost:8080/"
        },
        "outputId": "57fe2e1c-9e00-4836-bad5-24f4187bc2a4"
      },
      "execution_count": 20,
      "outputs": [
        {
          "output_type": "execute_result",
          "data": {
            "text/plain": [
              "47.86666666666667"
            ]
          },
          "metadata": {},
          "execution_count": 20
        }
      ]
    },
    {
      "cell_type": "code",
      "source": [
        "t_stat, p_value= ttest_1samp(a=samp_1, popmean= pop.mean())\n",
        "if p_value < 0.05:\n",
        "  print(\"We reject the null hypothesis\")\n",
        "else:\n",
        "  print(\"We fail to rejet the null hypothesis\")"
      ],
      "metadata": {
        "id": "QOghgL-CJ9Tv",
        "colab": {
          "base_uri": "https://localhost:8080/"
        },
        "outputId": "a79c1c7a-1993-4698-d662-ce5fc4f8c305"
      },
      "execution_count": 21,
      "outputs": [
        {
          "output_type": "stream",
          "name": "stdout",
          "text": [
            "We fail to rejet the null hypothesis\n"
          ]
        }
      ]
    },
    {
      "cell_type": "markdown",
      "source": [
        "# **Homework**"
      ],
      "metadata": {
        "id": "ki1JjJxSKB0z"
      }
    },
    {
      "cell_type": "code",
      "source": [
        "from scipy.stats import expon"
      ],
      "metadata": {
        "id": "MEzgUA3XKNal"
      },
      "execution_count": 22,
      "outputs": []
    },
    {
      "cell_type": "code",
      "source": [
        "SAMPLE= expon.rvs(scale=1/40, size=1000)\n",
        "sample_1= expon.rvs(scale=1/40, size=15)\n",
        "sample_2=expon.rvs(scale=1/35, size=15)"
      ],
      "metadata": {
        "id": "Nzk6PQ63LRqy"
      },
      "execution_count": 42,
      "outputs": []
    },
    {
      "cell_type": "code",
      "source": [
        "pg.qqplot(sample_1)\n",
        "plt.show()"
      ],
      "metadata": {
        "id": "dOX9T6c1LrL6",
        "colab": {
          "base_uri": "https://localhost:8080/",
          "height": 279
        },
        "outputId": "b7099bf6-8056-46de-c7ad-17d51b8dd3e4"
      },
      "execution_count": 43,
      "outputs": [
        {
          "output_type": "display_data",
          "data": {
            "text/plain": [
              "<Figure size 432x288 with 1 Axes>"
            ],
            "image/png": "[encoded data removed]"
          },
          "metadata": {
            "needs_background": "light"
          }
        }
      ]
    },
    {
      "cell_type": "code",
      "source": [
        "print(stats.normaltest(sample_1))"
      ],
      "metadata": {
        "id": "Ccve2tuu_PDG"
      },
      "execution_count": null,
      "outputs": []
    },
    {
      "cell_type": "code",
      "source": [
        "pg.qqplot(sample_2)\n",
        "plt.show()"
      ],
      "metadata": {
        "colab": {
          "base_uri": "https://localhost:8080/",
          "height": 279
        },
        "id": "fdwuHQEZ-M86",
        "outputId": "88390dac-b2a9-406c-e6dc-09b7b612a901"
      },
      "execution_count": 44,
      "outputs": [
        {
          "output_type": "display_data",
          "data": {
            "text/plain": [
              "<Figure size 432x288 with 1 Axes>"
            ],
            "image/png": "[encoded data removed]"
          },
          "metadata": {
            "needs_background": "light"
          }
        }
      ]
    },
    {
      "cell_type": "code",
      "source": [
        "  SAMPLE.mean()"
      ],
      "metadata": {
        "colab": {
          "base_uri": "https://localhost:8080/"
        },
        "id": "eZrNpxrFMT-a",
        "outputId": "e4ff5373-e496-49f6-c549-1323195d4444"
      },
      "execution_count": 28,
      "outputs": [
        {
          "output_type": "execute_result",
          "data": {
            "text/plain": [
              "36.04106915850603"
            ]
          },
          "metadata": {},
          "execution_count": 28
        }
      ]
    },
    {
      "cell_type": "code",
      "source": [
        "sample_1.mean()"
      ],
      "metadata": {
        "colab": {
          "base_uri": "https://localhost:8080/"
        },
        "id": "Z9zripSM-9F9",
        "outputId": "39461e8d-d022-4d82-80a5-592ac2713d5a"
      },
      "execution_count": 45,
      "outputs": [
        {
          "output_type": "execute_result",
          "data": {
            "text/plain": [
              "0.02376997928528393"
            ]
          },
          "metadata": {},
          "execution_count": 45
        }
      ]
    },
    {
      "cell_type": "code",
      "source": [
        "sample_2.mean()"
      ],
      "metadata": {
        "colab": {
          "base_uri": "https://localhost:8080/"
        },
        "id": "4DvvkVx8-88P",
        "outputId": "a866b171-236c-4d2d-e6de-9c6df25d56c4"
      },
      "execution_count": 48,
      "outputs": [
        {
          "output_type": "execute_result",
          "data": {
            "text/plain": [
              "0.02302816420641387"
            ]
          },
          "metadata": {},
          "execution_count": 48
        }
      ]
    },
    {
      "cell_type": "code",
      "source": [
        "t_stat, p_value= ttest_1samp(a=sample_1, popmean= SAMPLE.mean())\n",
        "if p_value < 0.05:\n",
        "  print(\"We reject the null hypothesis\")\n",
        "else:\n",
        "  print(\"We fail to rejet the null hypothesis\")"
      ],
      "metadata": {
        "colab": {
          "base_uri": "https://localhost:8080/"
        },
        "id": "SHHSlFsL_7XK",
        "outputId": "c38a25d3-72d7-4d43-a47b-08b83de1bf88"
      },
      "execution_count": 47,
      "outputs": [
        {
          "output_type": "stream",
          "name": "stdout",
          "text": [
            "We fail to rejet the null hypothesis\n"
          ]
        }
      ]
    }
  ]
}