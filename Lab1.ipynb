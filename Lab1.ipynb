{
  "nbformat": 4,
  "nbformat_minor": 0,
  "metadata": {
    "colab": {
      "provenance": [],
      "mount_file_id": "10UaH4bJYOCZZoJv_Za2zQ0YqkD6xe3pA",
      "authorship_tag": "ABX9TyO6NFzZ+n18xWnqLAYKH0rV",
      "include_colab_link": true
    },
    "kernelspec": {
      "name": "python3",
      "display_name": "Python 3"
    },
    "language_info": {
      "name": "python"
    }
  },
  "cells": [
    {
      "cell_type": "markdown",
      "metadata": {
        "id": "view-in-github",
        "colab_type": "text"
      },
      "source": [
        "<a href=\"https://colab.research.google.com/github/MichaelBarfuss/Intro-to-Analytics/blob/main/Lab1.ipynb\" target=\"_parent\"><img src=\"https://colab.research.google.com/assets/colab-badge.svg\" alt=\"Open In Colab\"/></a>"
      ]
    },
    {
      "cell_type": "markdown",
      "source": [],
      "metadata": {
        "id": "8yRqvakJdx10"
      }
    },
    {
      "cell_type": "markdown",
      "source": [
        "Lab 1"
      ],
      "metadata": {
        "id": "okfRvz7B4ZCl"
      }
    },
    {
      "cell_type": "code",
      "source": [
        "from google.colab import drive  \n",
        "drive.mount(\"/content/drive\")"
      ],
      "metadata": {
        "colab": {
          "base_uri": "https://localhost:8080/"
        },
        "id": "SxcpndZTEQkd",
        "outputId": "f2340932-9346-499e-e644-af2d8fe39fd0"
      },
      "execution_count": 30,
      "outputs": [
        {
          "output_type": "stream",
          "name": "stdout",
          "text": [
            "Drive already mounted at /content/drive; to attempt to forcibly remount, call drive.mount(\"/content/drive\", force_remount=True).\n"
          ]
        }
      ]
    },
    {
      "cell_type": "code",
      "source": [
        "\n",
        "import pandas as pd\n",
        "import numpy as np\n",
        "import matplotlib.pyplot as plt\n"
      ],
      "metadata": {
        "id": "iRq2ISMd4KgY"
      },
      "execution_count": 31,
      "outputs": []
    },
    {
      "cell_type": "code",
      "source": [
        "Lab1 = pd.read_csv('/content/drive/MyDrive/Analytics/Lab_1_1.csv')\n",
        "\n",
        "Lab1"
      ],
      "metadata": {
        "id": "U1iSGJCD6Se6",
        "colab": {
          "base_uri": "https://localhost:8080/",
          "height": 651
        },
        "outputId": "ddf322c3-5cf1-4584-d482-aa24696811ee"
      },
      "execution_count": 32,
      "outputs": [
        {
          "output_type": "execute_result",
          "data": {
            "text/plain": [
              "    Rank                                          Film Film_Short  \\\n",
              "0      1                                        Avatar        AVT   \n",
              "1      2                                         M3gan        MGN   \n",
              "2      3                               Empire Of Light        EOL   \n",
              "3      4  Whitney Houston: I Wanna Dance With Somebody         WH   \n",
              "4      5              Roald Dahl’s Matilda The Musical     RD Mat   \n",
              "5      6                             A Man Called Otto       Otto   \n",
              "6      7                                        Varisu     Varisu   \n",
              "7      8                                           Tar        Tar   \n",
              "8      9                                       Thunivu    Thunivu   \n",
              "9     10                Black Panther: Wakanda Forever      BP:WK   \n",
              "10    11                                 Strange World    S_World   \n",
              "11    12                              Waltair Veerayya      W_Vry   \n",
              "12    13                                          Till       Till   \n",
              "13    14                                      Enys Men      E_Men   \n",
              "14    15                             Veera Simha Reddy        VSR   \n",
              "\n",
              "   Country of Origin  Weekend in K           Distributor  Weeks on release  \\\n",
              "0                USA      417.2161                Disney                25   \n",
              "1                USA      235.6357             Universal                 5   \n",
              "2             UK/USA      172.1921                Disney                 5   \n",
              "3                USA      110.3064         Sony Pictures                15   \n",
              "4             UK/USA       85.7293         Sony Pictures                40   \n",
              "5                USA       79.6076         Sony Pictures                10   \n",
              "6                Ind       64.8230  Ahimsa Entertainment                 5   \n",
              "7                USA       39.4649             Universal                 5   \n",
              "8                Ind       27.3277               DG Tech                 5   \n",
              "9                USA       14.3774                Disney                50   \n",
              "10               USA       12.8986                Disney                40   \n",
              "11               Ind       12.3174  Dreamz Entertainment                 5   \n",
              "12            UK/USA       11.9939             Universal                10   \n",
              "13                UK       10.3250                   BFI                 5   \n",
              "14               Ind        9.5423  Dreamz Entertainment                 5   \n",
              "\n",
              "    Number of cinemas  Total Gross in K  \n",
              "0                 650         6373.3634  \n",
              "1                 560          235.6357  \n",
              "2                 680          172.1921  \n",
              "3                  60          820.3259  \n",
              "4                 670         2502.7891  \n",
              "5                 650          257.5470  \n",
              "6                 160           64.8230  \n",
              "7                 130           39.4649  \n",
              "8                  90           27.3277  \n",
              "9                 190         3421.8317  \n",
              "10                440          373.1300  \n",
              "11                 50           12.3174  \n",
              "12                340           63.0598  \n",
              "13                 50           10.3250  \n",
              "14                 50            9.5423  "
            ],
            "text/html": [
              "\n",
              "  <div id=\"df-3f996009-80e7-4f14-8736-80955b85a2e9\">\n",
              "    <div class=\"colab-df-container\">\n",
              "      <div>\n",
              "<style scoped>\n",
              "    .dataframe tbody tr th:only-of-type {\n",
              "        vertical-align: middle;\n",
              "    }\n",
              "\n",
              "    .dataframe tbody tr th {\n",
              "        vertical-align: top;\n",
              "    }\n",
              "\n",
              "    .dataframe thead th {\n",
              "        text-align: right;\n",
              "    }\n",
              "</style>\n",
              "<table border=\"1\" class=\"dataframe\">\n",
              "  <thead>\n",
              "    <tr style=\"text-align: right;\">\n",
              "      <th></th>\n",
              "      <th>Rank</th>\n",
              "      <th>Film</th>\n",
              "      <th>Film_Short</th>\n",
              "      <th>Country of Origin</th>\n",
              "      <th>Weekend in K</th>\n",
              "      <th>Distributor</th>\n",
              "      <th>Weeks on release</th>\n",
              "      <th>Number of cinemas</th>\n",
              "      <th>Total Gross in K</th>\n",
              "    </tr>\n",
              "  </thead>\n",
              "  <tbody>\n",
              "    <tr>\n",
              "      <th>0</th>\n",
              "      <td>1</td>\n",
              "      <td>Avatar</td>\n",
              "      <td>AVT</td>\n",
              "      <td>USA</td>\n",
              "      <td>417.2161</td>\n",
              "      <td>Disney</td>\n",
              "      <td>25</td>\n",
              "      <td>650</td>\n",
              "      <td>6373.3634</td>\n",
              "    </tr>\n",
              "    <tr>\n",
              "      <th>1</th>\n",
              "      <td>2</td>\n",
              "      <td>M3gan</td>\n",
              "      <td>MGN</td>\n",
              "      <td>USA</td>\n",
              "      <td>235.6357</td>\n",
              "      <td>Universal</td>\n",
              "      <td>5</td>\n",
              "      <td>560</td>\n",
              "      <td>235.6357</td>\n",
              "    </tr>\n",
              "    <tr>\n",
              "      <th>2</th>\n",
              "      <td>3</td>\n",
              "      <td>Empire Of Light</td>\n",
              "      <td>EOL</td>\n",
              "      <td>UK/USA</td>\n",
              "      <td>172.1921</td>\n",
              "      <td>Disney</td>\n",
              "      <td>5</td>\n",
              "      <td>680</td>\n",
              "      <td>172.1921</td>\n",
              "    </tr>\n",
              "    <tr>\n",
              "      <th>3</th>\n",
              "      <td>4</td>\n",
              "      <td>Whitney Houston: I Wanna Dance With Somebody</td>\n",
              "      <td>WH</td>\n",
              "      <td>USA</td>\n",
              "      <td>110.3064</td>\n",
              "      <td>Sony Pictures</td>\n",
              "      <td>15</td>\n",
              "      <td>60</td>\n",
              "      <td>820.3259</td>\n",
              "    </tr>\n",
              "    <tr>\n",
              "      <th>4</th>\n",
              "      <td>5</td>\n",
              "      <td>Roald Dahl’s Matilda The Musical</td>\n",
              "      <td>RD Mat</td>\n",
              "      <td>UK/USA</td>\n",
              "      <td>85.7293</td>\n",
              "      <td>Sony Pictures</td>\n",
              "      <td>40</td>\n",
              "      <td>670</td>\n",
              "      <td>2502.7891</td>\n",
              "    </tr>\n",
              "    <tr>\n",
              "      <th>5</th>\n",
              "      <td>6</td>\n",
              "      <td>A Man Called Otto</td>\n",
              "      <td>Otto</td>\n",
              "      <td>USA</td>\n",
              "      <td>79.6076</td>\n",
              "      <td>Sony Pictures</td>\n",
              "      <td>10</td>\n",
              "      <td>650</td>\n",
              "      <td>257.5470</td>\n",
              "    </tr>\n",
              "    <tr>\n",
              "      <th>6</th>\n",
              "      <td>7</td>\n",
              "      <td>Varisu</td>\n",
              "      <td>Varisu</td>\n",
              "      <td>Ind</td>\n",
              "      <td>64.8230</td>\n",
              "      <td>Ahimsa Entertainment</td>\n",
              "      <td>5</td>\n",
              "      <td>160</td>\n",
              "      <td>64.8230</td>\n",
              "    </tr>\n",
              "    <tr>\n",
              "      <th>7</th>\n",
              "      <td>8</td>\n",
              "      <td>Tar</td>\n",
              "      <td>Tar</td>\n",
              "      <td>USA</td>\n",
              "      <td>39.4649</td>\n",
              "      <td>Universal</td>\n",
              "      <td>5</td>\n",
              "      <td>130</td>\n",
              "      <td>39.4649</td>\n",
              "    </tr>\n",
              "    <tr>\n",
              "      <th>8</th>\n",
              "      <td>9</td>\n",
              "      <td>Thunivu</td>\n",
              "      <td>Thunivu</td>\n",
              "      <td>Ind</td>\n",
              "      <td>27.3277</td>\n",
              "      <td>DG Tech</td>\n",
              "      <td>5</td>\n",
              "      <td>90</td>\n",
              "      <td>27.3277</td>\n",
              "    </tr>\n",
              "    <tr>\n",
              "      <th>9</th>\n",
              "      <td>10</td>\n",
              "      <td>Black Panther: Wakanda Forever</td>\n",
              "      <td>BP:WK</td>\n",
              "      <td>USA</td>\n",
              "      <td>14.3774</td>\n",
              "      <td>Disney</td>\n",
              "      <td>50</td>\n",
              "      <td>190</td>\n",
              "      <td>3421.8317</td>\n",
              "    </tr>\n",
              "    <tr>\n",
              "      <th>10</th>\n",
              "      <td>11</td>\n",
              "      <td>Strange World</td>\n",
              "      <td>S_World</td>\n",
              "      <td>USA</td>\n",
              "      <td>12.8986</td>\n",
              "      <td>Disney</td>\n",
              "      <td>40</td>\n",
              "      <td>440</td>\n",
              "      <td>373.1300</td>\n",
              "    </tr>\n",
              "    <tr>\n",
              "      <th>11</th>\n",
              "      <td>12</td>\n",
              "      <td>Waltair Veerayya</td>\n",
              "      <td>W_Vry</td>\n",
              "      <td>Ind</td>\n",
              "      <td>12.3174</td>\n",
              "      <td>Dreamz Entertainment</td>\n",
              "      <td>5</td>\n",
              "      <td>50</td>\n",
              "      <td>12.3174</td>\n",
              "    </tr>\n",
              "    <tr>\n",
              "      <th>12</th>\n",
              "      <td>13</td>\n",
              "      <td>Till</td>\n",
              "      <td>Till</td>\n",
              "      <td>UK/USA</td>\n",
              "      <td>11.9939</td>\n",
              "      <td>Universal</td>\n",
              "      <td>10</td>\n",
              "      <td>340</td>\n",
              "      <td>63.0598</td>\n",
              "    </tr>\n",
              "    <tr>\n",
              "      <th>13</th>\n",
              "      <td>14</td>\n",
              "      <td>Enys Men</td>\n",
              "      <td>E_Men</td>\n",
              "      <td>UK</td>\n",
              "      <td>10.3250</td>\n",
              "      <td>BFI</td>\n",
              "      <td>5</td>\n",
              "      <td>50</td>\n",
              "      <td>10.3250</td>\n",
              "    </tr>\n",
              "    <tr>\n",
              "      <th>14</th>\n",
              "      <td>15</td>\n",
              "      <td>Veera Simha Reddy</td>\n",
              "      <td>VSR</td>\n",
              "      <td>Ind</td>\n",
              "      <td>9.5423</td>\n",
              "      <td>Dreamz Entertainment</td>\n",
              "      <td>5</td>\n",
              "      <td>50</td>\n",
              "      <td>9.5423</td>\n",
              "    </tr>\n",
              "  </tbody>\n",
              "</table>\n",
              "</div>\n",
              "      <button class=\"colab-df-convert\" onclick=\"convertToInteractive('df-3f996009-80e7-4f14-8736-80955b85a2e9')\"\n",
              "              title=\"Convert this dataframe to an interactive table.\"\n",
              "              style=\"display:none;\">\n",
              "        \n",
              "  <svg xmlns=\"http://www.w3.org/2000/svg\" height=\"24px\"viewBox=\"0 0 24 24\"\n",
              "       width=\"24px\">\n",
              "    <path d=\"M0 0h24v24H0V0z\" fill=\"none\"/>\n",
              "    <path d=\"M18.56 5.44l.94 2.06.94-2.06 2.06-.94-2.06-.94-.94-2.06-.94 2.06-2.06.94zm-11 1L8.5 8.5l.94-2.06 2.06-.94-2.06-.94L8.5 2.5l-.94 2.06-2.06.94zm10 10l.94 2.06.94-2.06 2.06-.94-2.06-.94-.94-2.06-.94 2.06-2.06.94z\"/><path d=\"M17.41 7.96l-1.37-1.37c-.4-.4-.92-.59-1.43-.59-.52 0-1.04.2-1.43.59L10.3 9.45l-7.72 7.72c-.78.78-.78 2.05 0 2.83L4 21.41c.39.39.9.59 1.41.59.51 0 1.02-.2 1.41-.59l7.78-7.78 2.81-2.81c.8-.78.8-2.07 0-2.86zM5.41 20L4 18.59l7.72-7.72 1.47 1.35L5.41 20z\"/>\n",
              "  </svg>\n",
              "      </button>\n",
              "      \n",
              "  <style>\n",
              "    .colab-df-container {\n",
              "      display:flex;\n",
              "      flex-wrap:wrap;\n",
              "      gap: 12px;\n",
              "    }\n",
              "\n",
              "    .colab-df-convert {\n",
              "      background-color: #E8F0FE;\n",
              "      border: none;\n",
              "      border-radius: 50%;\n",
              "      cursor: pointer;\n",
              "      display: none;\n",
              "      fill: #1967D2;\n",
              "      height: 32px;\n",
              "      padding: 0 0 0 0;\n",
              "      width: 32px;\n",
              "    }\n",
              "\n",
              "    .colab-df-convert:hover {\n",
              "      background-color: #E2EBFA;\n",
              "      box-shadow: 0px 1px 2px rgba(60, 64, 67, 0.3), 0px 1px 3px 1px rgba(60, 64, 67, 0.15);\n",
              "      fill: #174EA6;\n",
              "    }\n",
              "\n",
              "    [theme=dark] .colab-df-convert {\n",
              "      background-color: #3B4455;\n",
              "      fill: #D2E3FC;\n",
              "    }\n",
              "\n",
              "    [theme=dark] .colab-df-convert:hover {\n",
              "      background-color: #434B5C;\n",
              "      box-shadow: 0px 1px 3px 1px rgba(0, 0, 0, 0.15);\n",
              "      filter: drop-shadow(0px 1px 2px rgba(0, 0, 0, 0.3));\n",
              "      fill: #FFFFFF;\n",
              "    }\n",
              "  </style>\n",
              "\n",
              "      <script>\n",
              "        const buttonEl =\n",
              "          document.querySelector('#df-3f996009-80e7-4f14-8736-80955b85a2e9 button.colab-df-convert');\n",
              "        buttonEl.style.display =\n",
              "          google.colab.kernel.accessAllowed ? 'block' : 'none';\n",
              "\n",
              "        async function convertToInteractive(key) {\n",
              "          const element = document.querySelector('#df-3f996009-80e7-4f14-8736-80955b85a2e9');\n",
              "          const dataTable =\n",
              "            await google.colab.kernel.invokeFunction('convertToInteractive',\n",
              "                                                     [key], {});\n",
              "          if (!dataTable) return;\n",
              "\n",
              "          const docLinkHtml = 'Like what you see? Visit the ' +\n",
              "            '<a target=\"_blank\" href=https://colab.research.google.com/notebooks/data_table.ipynb>data table notebook</a>'\n",
              "            + ' to learn more about interactive tables.';\n",
              "          element.innerHTML = '';\n",
              "          dataTable['output_type'] = 'display_data';\n",
              "          await google.colab.output.renderOutput(dataTable, element);\n",
              "          const docLink = document.createElement('div');\n",
              "          docLink.innerHTML = docLinkHtml;\n",
              "          element.appendChild(docLink);\n",
              "        }\n",
              "      </script>\n",
              "    </div>\n",
              "  </div>\n",
              "  "
            ]
          },
          "metadata": {},
          "execution_count": 32
        }
      ]
    },
    {
      "cell_type": "markdown",
      "source": [
        "Line Graph"
      ],
      "metadata": {
        "id": "zEc5sb6VrxmG"
      }
    },
    {
      "cell_type": "code",
      "source": [
        "\n",
        "plt.figure(figsize=(15,10))\n",
        "plt.plot(Lab1['Film_Short'],Lab1['Total Gross in K'], label='Gross in K')\n",
        "plt.plot(Lab1['Film_Short'],Lab1['Number of cinemas'], color='red', label= 'Cinemas')\n",
        "plt.title('Total Gross vs Cinemas' )\n",
        "plt.xlabel('Film')\n",
        "plt.ylabel('Cinemas and Gross')\n",
        "plt.legend()\n",
        "plt.show()\n",
        "     "
      ],
      "metadata": {
        "id": "rnLOsfC0rsXr",
        "colab": {
          "base_uri": "https://localhost:8080/",
          "height": 622
        },
        "outputId": "16aec4e9-4672-42c1-e235-061e4b67bac8"
      },
      "execution_count": 33,
      "outputs": [
        {
          "output_type": "display_data",
          "data": {
            "text/plain": [
              "<Figure size 1080x720 with 1 Axes>"
            ],
            "image/png": "[encoded data removed]"
          },
          "metadata": {
            "needs_background": "light"
          }
        }
      ]
    },
    {
      "cell_type": "markdown",
      "source": [
        "Bar Graph"
      ],
      "metadata": {
        "id": "qnTMLEQ9Lqn3"
      }
    },
    {
      "cell_type": "code",
      "source": [
        "plt.figure(figsize=(15,10))\n",
        "plt.bar(Lab1['Film_Short'] ,Lab1['Weekend in K'], label='Weekend Sales')\n",
        "plt.bar(Lab1['Film_Short'],Lab1['Number of cinemas'], color='red',bottom=Lab1['Weekend in K'], label= 'Weekend Gross')\n",
        "plt.title('Films Weekend vs Number of Cinemas' )\n",
        "plt.xlabel('Film')\n",
        "plt.ylabel('Cinemas')\n",
        "plt.legend()\n",
        "plt.show()"
      ],
      "metadata": {
        "id": "sE2VXUUwLtUM",
        "colab": {
          "base_uri": "https://localhost:8080/",
          "height": 622
        },
        "outputId": "f39d3435-b3be-4471-d266-2c5dc1d4d162"
      },
      "execution_count": 34,
      "outputs": [
        {
          "output_type": "display_data",
          "data": {
            "text/plain": [
              "<Figure size 1080x720 with 1 Axes>"
            ],
            "image/png": "[encoded data removed]"
          },
          "metadata": {
            "needs_background": "light"
          }
        }
      ]
    },
    {
      "cell_type": "markdown",
      "source": [
        "BoxPlot"
      ],
      "metadata": {
        "id": "8BoyS2KpLtpK"
      }
    },
    {
      "cell_type": "code",
      "source": [
        "plt.figure(figsize=(15,10))\n",
        "plt.boxplot([Disney,Universal,SonyPic,AhimsaE,DGTech,BFI,DreamzE])\n",
        "plt.title('Distributor vs Total Gross' )\n",
        "plt.xlabel('Type')\n",
        "plt.ylabel('Profit')\n",
        "plt.show()"
      ],
      "metadata": {
        "id": "0lPegRHOLw8I",
        "colab": {
          "base_uri": "https://localhost:8080/",
          "height": 676
        },
        "outputId": "6e596083-2fc6-4ff3-e12a-981377563671"
      },
      "execution_count": 35,
      "outputs": [
        {
          "output_type": "stream",
          "name": "stderr",
          "text": [
            "/usr/local/lib/python3.8/dist-packages/matplotlib/cbook/__init__.py:1376: VisibleDeprecationWarning: Creating an ndarray from ragged nested sequences (which is a list-or-tuple of lists-or-tuples-or ndarrays with different lengths or shapes) is deprecated. If you meant to do this, you must specify 'dtype=object' when creating the ndarray.\n",
            "  X = np.atleast_1d(X.T if isinstance(X, np.ndarray) else np.asarray(X))\n"
          ]
        },
        {
          "output_type": "display_data",
          "data": {
            "text/plain": [
              "<Figure size 1080x720 with 1 Axes>"
            ],
            "image/png": "[encoded data removed]"
          },
          "metadata": {
            "needs_background": "light"
          }
        }
      ]
    },
    {
      "cell_type": "markdown",
      "source": [
        "*Pie* Chart"
      ],
      "metadata": {
        "id": "0580Mz6lLxEw"
      }
    },
    {
      "cell_type": "code",
      "source": [
        "Disney=(Lab1[Lab1['Distributor']=='Disney']['Total Gross in K'])\n",
        "Disney\n"
      ],
      "metadata": {
        "id": "gdwAiWSnnHcs",
        "colab": {
          "base_uri": "https://localhost:8080/"
        },
        "outputId": "d296e7f5-4eb3-43d2-f66e-a4383fdbe3d2"
      },
      "execution_count": 36,
      "outputs": [
        {
          "output_type": "execute_result",
          "data": {
            "text/plain": [
              "0     6373.3634\n",
              "2      172.1921\n",
              "9     3421.8317\n",
              "10     373.1300\n",
              "Name: Total Gross in K, dtype: float64"
            ]
          },
          "metadata": {},
          "execution_count": 36
        }
      ]
    },
    {
      "cell_type": "code",
      "source": [
        "Universal=(Lab1[Lab1['Distributor']=='Universal']['Total Gross in K'])\n",
        "Universal"
      ],
      "metadata": {
        "id": "m2zworppo9pW",
        "colab": {
          "base_uri": "https://localhost:8080/"
        },
        "outputId": "d755c5cf-53c2-4321-bd96-4011a6d75e02"
      },
      "execution_count": 37,
      "outputs": [
        {
          "output_type": "execute_result",
          "data": {
            "text/plain": [
              "1     235.6357\n",
              "7      39.4649\n",
              "12     63.0598\n",
              "Name: Total Gross in K, dtype: float64"
            ]
          },
          "metadata": {},
          "execution_count": 37
        }
      ]
    },
    {
      "cell_type": "code",
      "source": [
        "SonyPic=(Lab1[Lab1['Distributor']=='Sony Pictures']['Total Gross in K'])\n",
        "SonyPic"
      ],
      "metadata": {
        "id": "l06TJjS1o9fL",
        "colab": {
          "base_uri": "https://localhost:8080/"
        },
        "outputId": "26fe62d8-a10d-4bd1-ce2d-eacddb9dc7ca"
      },
      "execution_count": 38,
      "outputs": [
        {
          "output_type": "execute_result",
          "data": {
            "text/plain": [
              "3     820.3259\n",
              "4    2502.7891\n",
              "5     257.5470\n",
              "Name: Total Gross in K, dtype: float64"
            ]
          },
          "metadata": {},
          "execution_count": 38
        }
      ]
    },
    {
      "cell_type": "code",
      "source": [
        "AhimsaE=(Lab1[Lab1['Distributor']=='Ahimsa Entertainment']['Total Gross in K'])\n",
        "AhimsaE"
      ],
      "metadata": {
        "id": "y9neQD-jo9ac",
        "colab": {
          "base_uri": "https://localhost:8080/"
        },
        "outputId": "357d802e-c971-4c56-98aa-20637d33f7d9"
      },
      "execution_count": 39,
      "outputs": [
        {
          "output_type": "execute_result",
          "data": {
            "text/plain": [
              "6    64.823\n",
              "Name: Total Gross in K, dtype: float64"
            ]
          },
          "metadata": {},
          "execution_count": 39
        }
      ]
    },
    {
      "cell_type": "code",
      "source": [
        "DGTech=(Lab1[Lab1['Distributor']=='DG Tech']['Total Gross in K'])\n",
        "DGTech"
      ],
      "metadata": {
        "id": "heC2bY8Lo9Xe",
        "colab": {
          "base_uri": "https://localhost:8080/"
        },
        "outputId": "d57f99f1-52c6-4d6a-e6a3-a5a4608b178d"
      },
      "execution_count": 40,
      "outputs": [
        {
          "output_type": "execute_result",
          "data": {
            "text/plain": [
              "8    27.3277\n",
              "Name: Total Gross in K, dtype: float64"
            ]
          },
          "metadata": {},
          "execution_count": 40
        }
      ]
    },
    {
      "cell_type": "code",
      "source": [
        "BFI=(Lab1[Lab1['Distributor']=='BFI']['Total Gross in K'])\n",
        "BFI"
      ],
      "metadata": {
        "id": "V_E80OBLo9TL",
        "colab": {
          "base_uri": "https://localhost:8080/"
        },
        "outputId": "9035f529-337c-4dda-854f-4e78202fc731"
      },
      "execution_count": 41,
      "outputs": [
        {
          "output_type": "execute_result",
          "data": {
            "text/plain": [
              "13    10.325\n",
              "Name: Total Gross in K, dtype: float64"
            ]
          },
          "metadata": {},
          "execution_count": 41
        }
      ]
    },
    {
      "cell_type": "code",
      "source": [
        "DreamzE=(Lab1[Lab1['Distributor']=='Dreamz Entertainment']['Total Gross in K'])\n",
        "DreamzE"
      ],
      "metadata": {
        "id": "kOYfZ2QXo9LE",
        "colab": {
          "base_uri": "https://localhost:8080/"
        },
        "outputId": "e7785630-d58b-4909-fcbb-dd8a54d7a5d1"
      },
      "execution_count": 42,
      "outputs": [
        {
          "output_type": "execute_result",
          "data": {
            "text/plain": [
              "11    12.3174\n",
              "14     9.5423\n",
              "Name: Total Gross in K, dtype: float64"
            ]
          },
          "metadata": {},
          "execution_count": 42
        }
      ]
    },
    {
      "cell_type": "code",
      "source": [
        "Type=['Disney','Universal','Sony Picutures','AhismaE','DGTech','BFI','DreamzE']\n",
        "Profit=[sum(Disney),sum(Universal),sum(SonyPic),sum(AhimsaE),sum(DGTech),sum(BFI),sum(DreamzE)]\n",
        "plt.figure(figsize=(8,8))\n",
        "plt.pie(Profit,labels=Type,autopct='%0.2f%%', explode=[0,0,0,0,.2,0.2,0.2])\n",
        "plt.title('Distributor vs Income')\n",
        "plt.show()"
      ],
      "metadata": {
        "id": "OUXKxzwKLzaA",
        "colab": {
          "base_uri": "https://localhost:8080/",
          "height": 482
        },
        "outputId": "0929dd27-eb36-42ff-bcdb-75ff4ca64463"
      },
      "execution_count": 43,
      "outputs": [
        {
          "output_type": "display_data",
          "data": {
            "text/plain": [
              "<Figure size 576x576 with 1 Axes>"
            ],
            "image/png": "[encoded data removed]"
          },
          "metadata": {}
        }
      ]
    }
  ]
}