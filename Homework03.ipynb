{
  "nbformat": 4,
  "nbformat_minor": 0,
  "metadata": {
    "colab": {
      "provenance": [],
      "authorship_tag": "ABX9TyOkfE1bSmdubx4gl21IyXaw",
      "include_colab_link": true
    },
    "kernelspec": {
      "name": "python3",
      "display_name": "Python 3"
    },
    "language_info": {
      "name": "python"
    }
  },
  "cells": [
    {
      "cell_type": "markdown",
      "metadata": {
        "id": "view-in-github",
        "colab_type": "text"
      },
      "source": [
        "<a href=\"https://colab.research.google.com/github/MichaelBarfuss/Intro-to-Analytics/blob/main/Homework03.ipynb\" target=\"_parent\"><img src=\"https://colab.research.google.com/assets/colab-badge.svg\" alt=\"Open In Colab\"/></a>"
      ]
    },
    {
      "cell_type": "code",
      "execution_count": 27,
      "metadata": {
        "id": "v2I27wLsFQYw"
      },
      "outputs": [],
      "source": [
        "import numpy as np\n",
        "import matplotlib.pyplot as plt\n",
        "from scipy.stats import randint \n",
        "from scipy.stats import binom"
      ]
    },
    {
      "cell_type": "markdown",
      "source": [
        "Binomial_Data"
      ],
      "metadata": {
        "id": "cx-MU6yWdPrV"
      }
    },
    {
      "cell_type": "code",
      "source": [
        "n, p = 10, .5  # number of trials, probability of each trial\n",
        "data_B = np.random.binomial(n, p, 20)\n",
        "data_B"
      ],
      "metadata": {
        "id": "xTSiVKYFdO38",
        "colab": {
          "base_uri": "https://localhost:8080/"
        },
        "outputId": "4c02d570-6251-4bb3-e2d6-3f368b4d4d7b"
      },
      "execution_count": 28,
      "outputs": [
        {
          "output_type": "execute_result",
          "data": {
            "text/plain": [
              "array([0, 3, 6, 3, 4, 5, 6, 4, 7, 6, 4, 2, 5, 6, 4, 6, 4, 6, 6, 4])"
            ]
          },
          "metadata": {},
          "execution_count": 28
        }
      ]
    },
    {
      "cell_type": "code",
      "source": [
        "#PMF_Bino\n",
        "Success = list(range(n + 1))\n",
        "Binomial_dist_pmf = [binom.pmf(k, n, p) for k in Success ]\n",
        "print(Binomial_dist_pmf)"
      ],
      "metadata": {
        "id": "W_Qtsz2cd4aZ",
        "colab": {
          "base_uri": "https://localhost:8080/"
        },
        "outputId": "37f0baf0-9af9-4060-daac-9e3ca821afb0"
      },
      "execution_count": 29,
      "outputs": [
        {
          "output_type": "stream",
          "name": "stdout",
          "text": [
            "[0.0009765625, 0.009765625000000002, 0.04394531250000004, 0.1171875, 0.2050781249999999, 0.24609375000000003, 0.2050781249999999, 0.11718749999999999, 0.04394531250000004, 0.009765625000000002, 0.0009765625]\n"
          ]
        }
      ]
    },
    {
      "cell_type": "code",
      "source": [
        "plt.bar(Success, Binomial_dist_pmf)\n",
        "plt.xlabel('Tails')\n",
        "plt.ylabel('Probability')\n",
        "plt.show()"
      ],
      "metadata": {
        "colab": {
          "base_uri": "https://localhost:8080/",
          "height": 279
        },
        "id": "ukZf8cJXstfm",
        "outputId": "ee04b01d-7f7b-4174-949e-c0baea745293"
      },
      "execution_count": 30,
      "outputs": [
        {
          "output_type": "display_data",
          "data": {
            "text/plain": [
              "<Figure size 432x288 with 1 Axes>"
            ],
            "image/png": "[encoded data removed]"
          },
          "metadata": {
            "needs_background": "light"
          }
        }
      ]
    },
    {
      "cell_type": "code",
      "source": [
        "#CDF_Bino\n",
        "Binomial_dist_cdf = [binom.cdf(k, n, p) for k in Success ]\n",
        "Binomial_dist_cdf\n",
        "     "
      ],
      "metadata": {
        "id": "hU0H_K-bd-Wq",
        "colab": {
          "base_uri": "https://localhost:8080/"
        },
        "outputId": "d54eee4a-16b1-48d6-f9dd-df069ef38de4"
      },
      "execution_count": 31,
      "outputs": [
        {
          "output_type": "execute_result",
          "data": {
            "text/plain": [
              "[0.0009765625,\n",
              " 0.0107421875,\n",
              " 0.0546875,\n",
              " 0.171875,\n",
              " 0.376953125,\n",
              " 0.623046875,\n",
              " 0.828125,\n",
              " 0.9453125,\n",
              " 0.9892578125,\n",
              " 0.9990234375,\n",
              " 1.0]"
            ]
          },
          "metadata": {},
          "execution_count": 31
        }
      ]
    },
    {
      "cell_type": "code",
      "source": [
        "plt.bar(Success, Binomial_dist_cdf)\n",
        "plt.xlabel('Tails')\n",
        "plt.ylabel('Probability')\n",
        "plt.show()"
      ],
      "metadata": {
        "colab": {
          "base_uri": "https://localhost:8080/",
          "height": 279
        },
        "id": "6UUHKkmrsmmP",
        "outputId": "af08bca4-f986-408f-b496-e29d4b8f06b8"
      },
      "execution_count": 32,
      "outputs": [
        {
          "output_type": "display_data",
          "data": {
            "text/plain": [
              "<Figure size 432x288 with 1 Axes>"
            ],
            "image/png": "[encoded data removed]"
          },
          "metadata": {
            "needs_background": "light"
          }
        }
      ]
    },
    {
      "cell_type": "code",
      "source": [
        "#Mean #Variance \n",
        "mean, var = binom.stats(n, p)\n",
        "print('mean is', mean, 'and variance is', var)"
      ],
      "metadata": {
        "id": "jmueun7gd925",
        "colab": {
          "base_uri": "https://localhost:8080/"
        },
        "outputId": "262577f7-daf0-4777-f958-25664e2f5323"
      },
      "execution_count": 33,
      "outputs": [
        {
          "output_type": "stream",
          "name": "stdout",
          "text": [
            "mean is 5.0 and variance is 2.5\n"
          ]
        }
      ]
    },
    {
      "cell_type": "markdown",
      "source": [
        "HyperGeometric"
      ],
      "metadata": {
        "id": "Jdy-Ar0DhF9t"
      }
    },
    {
      "cell_type": "code",
      "source": [
        "from scipy.stats import hypergeom"
      ],
      "metadata": {
        "id": "QZ94VVZEfGnv"
      },
      "execution_count": 34,
      "outputs": []
    },
    {
      "cell_type": "code",
      "source": [
        "#Mean and Variance\n",
        "mean, var=g_pmf.mean(),g_pmf.var()\n",
        "mean, var"
      ],
      "metadata": {
        "id": "ZjdPilhLfMkC",
        "colab": {
          "base_uri": "https://localhost:8080/"
        },
        "outputId": "b71a81d3-9ff8-4a41-f0e4-547f8b98e7de"
      },
      "execution_count": 35,
      "outputs": [
        {
          "output_type": "execute_result",
          "data": {
            "text/plain": [
              "(0.19999999999999993, 0.026758494031221276)"
            ]
          },
          "metadata": {},
          "execution_count": 35
        }
      ]
    },
    {
      "cell_type": "code",
      "source": [
        "#PMF\n",
        "X=5\n",
        "Y=6\n",
        "N=11\n",
        "K= np.arange(0,n+1)\n",
        "n=4\n",
        "g_pmf = hypergeom.pmf(K, N, Y, n)\n",
        "g_pmf"
      ],
      "metadata": {
        "id": "wFnZppRjfvyN",
        "colab": {
          "base_uri": "https://localhost:8080/"
        },
        "outputId": "a2de2a29-c152-47ea-c60a-8127c619893c"
      },
      "execution_count": 36,
      "outputs": [
        {
          "output_type": "execute_result",
          "data": {
            "text/plain": [
              "array([0.01515152, 0.18181818, 0.45454545, 0.3030303 , 0.04545455,\n",
              "       0.        , 0.        , 0.        , 0.        , 0.        ,\n",
              "       0.        ])"
            ]
          },
          "metadata": {},
          "execution_count": 36
        }
      ]
    },
    {
      "cell_type": "code",
      "source": [
        "#CDF\n",
        "prb = hypergeom.cdf(K, N, Y, n)\n",
        "prb"
      ],
      "metadata": {
        "id": "dPTckk9fg1R7",
        "colab": {
          "base_uri": "https://localhost:8080/"
        },
        "outputId": "4d36c12e-0a86-4222-8df4-9ad854246120"
      },
      "execution_count": 39,
      "outputs": [
        {
          "output_type": "execute_result",
          "data": {
            "text/plain": [
              "array([0.01515152, 0.1969697 , 0.65151515, 0.95454545, 1.        ,\n",
              "       1.        , 1.        , 1.        , 1.        , 1.        ,\n",
              "       1.        ])"
            ]
          },
          "metadata": {},
          "execution_count": 39
        }
      ]
    },
    {
      "cell_type": "code",
      "source": [
        "#Plot\n",
        "\n",
        "[N, n, Y] = [11,4,6]\n",
        "rv = hypergeom(N, Y, n)\n",
        "x = np.arange(0, n+1)\n",
        "pmf_dogs = rv.pmf(x)\n",
        "\n",
        "fig = plt.figure()\n",
        "ax = fig.add_subplot(111)\n",
        "ax.plot(x, pmf_dogs, 'bo')\n",
        "ax.vlines(x, 0, pmf_dogs, lw=2)\n",
        "ax.set_xlabel('X')\n",
        "ax.set_ylabel('hypergeom PMF')\n",
        "plt.show()"
      ],
      "metadata": {
        "id": "1eKP2YHKgSWP",
        "colab": {
          "base_uri": "https://localhost:8080/",
          "height": 279
        },
        "outputId": "b7181b1f-0f2c-47d3-c855-55d0a1125d28"
      },
      "execution_count": 38,
      "outputs": [
        {
          "output_type": "display_data",
          "data": {
            "text/plain": [
              "<Figure size 432x288 with 1 Axes>"
            ],
            "image/png": "[encoded data removed]"
          },
          "metadata": {
            "needs_background": "light"
          }
        }
      ]
    }
  ]
}