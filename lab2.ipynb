{
  "nbformat": 4,
  "nbformat_minor": 0,
  "metadata": {
    "colab": {
      "provenance": [],
      "mount_file_id": "1fDFkdWVtcT8bfAxZ3HNqUmfGyQl5CXNJ",
      "authorship_tag": "ABX9TyPIXb6KTt5k8n6o3ryur72b",
      "include_colab_link": true
    },
    "kernelspec": {
      "name": "python3",
      "display_name": "Python 3"
    },
    "language_info": {
      "name": "python"
    }
  },
  "cells": [
    {
      "cell_type": "markdown",
      "metadata": {
        "id": "view-in-github",
        "colab_type": "text"
      },
      "source": [
        "<a href=\"https://colab.research.google.com/github/MichaelBarfuss/Intro-to-Analytics/blob/main/lab2.ipynb\" target=\"_parent\"><img src=\"https://colab.research.google.com/assets/colab-badge.svg\" alt=\"Open In Colab\"/></a>"
      ]
    },
    {
      "cell_type": "markdown",
      "source": [
        "**Lab 2**"
      ],
      "metadata": {
        "id": "1xOW8xt64bmE"
      }
    },
    {
      "cell_type": "code",
      "source": [
        "import numpy as np\n",
        "import pandas as pd\n",
        "import matplotlib.pyplot as plt"
      ],
      "metadata": {
        "id": "znFktmcE4gTD"
      },
      "execution_count": null,
      "outputs": []
    },
    {
      "cell_type": "code",
      "source": [
        "lab2=pd.read_csv('/content/drive/MyDrive/Analytics/Lab_2.csv')\n",
        "lab2"
      ],
      "metadata": {
        "id": "pbpa_lEhdCLS",
        "colab": {
          "base_uri": "https://localhost:8080/",
          "height": 1000
        },
        "outputId": "099d85d2-692c-425d-e98a-83a2e715d6bf"
      },
      "execution_count": null,
      "outputs": [
        {
          "output_type": "execute_result",
          "data": {
            "text/plain": [
              "    Cement   Water  Coarse_Aggregate   Fine_Aggregate  Age   Strength\n",
              "0     540.0    162             1040.0           676.0   28  79.986111\n",
              "1     540.0    162             1055.0           676.0   28  61.887366\n",
              "2     332.5    228              932.0           594.0  270  40.269535\n",
              "3     332.5    228              932.0           594.0  365  41.052780\n",
              "4     198.6    192              978.4           825.5  360  44.296075\n",
              "5     266.0    228              932.0           670.0   90  47.029847\n",
              "6     380.0    228              932.0           594.0  365  43.698299\n",
              "7     380.0    228              932.0           594.0   28  36.447770\n",
              "8     266.0    228              932.0           670.0   28  45.854291\n",
              "9     475.0    228              932.0           594.0   28  39.289790\n",
              "10    198.6    192              978.4           825.5   90  38.074244\n",
              "11    198.6    192              978.4           825.5   28  28.021684\n",
              "12    427.5    228              932.0           594.0  270  43.012960\n",
              "13    190.0    228              932.0           670.0   90  42.326932\n",
              "14    304.0    228              932.0           670.0   28  47.813782\n",
              "15    380.0    228              932.0           670.0   90  52.908320\n",
              "16    139.6    192             1047.0           806.9   90  39.358048\n",
              "17    342.0    228              932.0           670.0  365  56.141962\n",
              "18    380.0    228              932.0           594.0   90  40.563252\n",
              "19    475.0    228              932.0           594.0  180  42.620648\n",
              "20    427.5    228              932.0           594.0  180  41.836714\n",
              "21    139.6    192             1047.0           806.9   28  28.237490\n",
              "22    139.6    192             1047.0           806.9    3   8.063422\n",
              "23    139.6    192             1047.0           806.9  180  44.207822\n",
              "24    380.0    228              932.0           670.0  365  52.516697\n",
              "25    380.0    228              932.0           670.0  270  53.300632\n",
              "26    380.0    228              932.0           594.0  270  41.151375\n",
              "27    342.0    228              932.0           670.0  180  52.124386\n",
              "28    427.5    228              932.0           594.0   28  37.427515\n",
              "29    475.0    228              932.0           594.0    7  38.603761\n",
              "30    304.0    228              932.0           670.0  365  55.260122\n",
              "31    266.0    228              932.0           670.0  365  52.908320\n",
              "32    198.6    192              978.4           825.5  180  41.719503\n",
              "33    475.0    228              932.0           594.0  270  42.131120\n",
              "34    190.0    228              932.0           670.0  365  53.692254\n",
              "35    237.5    228              932.0           594.0  270  38.407950\n",
              "36    237.5    228              932.0           594.0   28  30.079769\n",
              "37    332.5    228              932.0           594.0   90  37.721921\n",
              "38    475.0    228              932.0           594.0   90  42.229026\n",
              "39    237.5    228              932.0           594.0  180  36.251959"
            ],
            "text/html": [
              "\n",
              "  <div id=\"df-ea1d0860-01bc-4ec8-a774-4bc29c28306f\">\n",
              "    <div class=\"colab-df-container\">\n",
              "      <div>\n",
              "<style scoped>\n",
              "    .dataframe tbody tr th:only-of-type {\n",
              "        vertical-align: middle;\n",
              "    }\n",
              "\n",
              "    .dataframe tbody tr th {\n",
              "        vertical-align: top;\n",
              "    }\n",
              "\n",
              "    .dataframe thead th {\n",
              "        text-align: right;\n",
              "    }\n",
              "</style>\n",
              "<table border=\"1\" class=\"dataframe\">\n",
              "  <thead>\n",
              "    <tr style=\"text-align: right;\">\n",
              "      <th></th>\n",
              "      <th>Cement</th>\n",
              "      <th>Water</th>\n",
              "      <th>Coarse_Aggregate</th>\n",
              "      <th>Fine_Aggregate</th>\n",
              "      <th>Age</th>\n",
              "      <th>Strength</th>\n",
              "    </tr>\n",
              "  </thead>\n",
              "  <tbody>\n",
              "    <tr>\n",
              "      <th>0</th>\n",
              "      <td>540.0</td>\n",
              "      <td>162</td>\n",
              "      <td>1040.0</td>\n",
              "      <td>676.0</td>\n",
              "      <td>28</td>\n",
              "      <td>79.986111</td>\n",
              "    </tr>\n",
              "    <tr>\n",
              "      <th>1</th>\n",
              "      <td>540.0</td>\n",
              "      <td>162</td>\n",
              "      <td>1055.0</td>\n",
              "      <td>676.0</td>\n",
              "      <td>28</td>\n",
              "      <td>61.887366</td>\n",
              "    </tr>\n",
              "    <tr>\n",
              "      <th>2</th>\n",
              "      <td>332.5</td>\n",
              "      <td>228</td>\n",
              "      <td>932.0</td>\n",
              "      <td>594.0</td>\n",
              "      <td>270</td>\n",
              "      <td>40.269535</td>\n",
              "    </tr>\n",
              "    <tr>\n",
              "      <th>3</th>\n",
              "      <td>332.5</td>\n",
              "      <td>228</td>\n",
              "      <td>932.0</td>\n",
              "      <td>594.0</td>\n",
              "      <td>365</td>\n",
              "      <td>41.052780</td>\n",
              "    </tr>\n",
              "    <tr>\n",
              "      <th>4</th>\n",
              "      <td>198.6</td>\n",
              "      <td>192</td>\n",
              "      <td>978.4</td>\n",
              "      <td>825.5</td>\n",
              "      <td>360</td>\n",
              "      <td>44.296075</td>\n",
              "    </tr>\n",
              "    <tr>\n",
              "      <th>5</th>\n",
              "      <td>266.0</td>\n",
              "      <td>228</td>\n",
              "      <td>932.0</td>\n",
              "      <td>670.0</td>\n",
              "      <td>90</td>\n",
              "      <td>47.029847</td>\n",
              "    </tr>\n",
              "    <tr>\n",
              "      <th>6</th>\n",
              "      <td>380.0</td>\n",
              "      <td>228</td>\n",
              "      <td>932.0</td>\n",
              "      <td>594.0</td>\n",
              "      <td>365</td>\n",
              "      <td>43.698299</td>\n",
              "    </tr>\n",
              "    <tr>\n",
              "      <th>7</th>\n",
              "      <td>380.0</td>\n",
              "      <td>228</td>\n",
              "      <td>932.0</td>\n",
              "      <td>594.0</td>\n",
              "      <td>28</td>\n",
              "      <td>36.447770</td>\n",
              "    </tr>\n",
              "    <tr>\n",
              "      <th>8</th>\n",
              "      <td>266.0</td>\n",
              "      <td>228</td>\n",
              "      <td>932.0</td>\n",
              "      <td>670.0</td>\n",
              "      <td>28</td>\n",
              "      <td>45.854291</td>\n",
              "    </tr>\n",
              "    <tr>\n",
              "      <th>9</th>\n",
              "      <td>475.0</td>\n",
              "      <td>228</td>\n",
              "      <td>932.0</td>\n",
              "      <td>594.0</td>\n",
              "      <td>28</td>\n",
              "      <td>39.289790</td>\n",
              "    </tr>\n",
              "    <tr>\n",
              "      <th>10</th>\n",
              "      <td>198.6</td>\n",
              "      <td>192</td>\n",
              "      <td>978.4</td>\n",
              "      <td>825.5</td>\n",
              "      <td>90</td>\n",
              "      <td>38.074244</td>\n",
              "    </tr>\n",
              "    <tr>\n",
              "      <th>11</th>\n",
              "      <td>198.6</td>\n",
              "      <td>192</td>\n",
              "      <td>978.4</td>\n",
              "      <td>825.5</td>\n",
              "      <td>28</td>\n",
              "      <td>28.021684</td>\n",
              "    </tr>\n",
              "    <tr>\n",
              "      <th>12</th>\n",
              "      <td>427.5</td>\n",
              "      <td>228</td>\n",
              "      <td>932.0</td>\n",
              "      <td>594.0</td>\n",
              "      <td>270</td>\n",
              "      <td>43.012960</td>\n",
              "    </tr>\n",
              "    <tr>\n",
              "      <th>13</th>\n",
              "      <td>190.0</td>\n",
              "      <td>228</td>\n",
              "      <td>932.0</td>\n",
              "      <td>670.0</td>\n",
              "      <td>90</td>\n",
              "      <td>42.326932</td>\n",
              "    </tr>\n",
              "    <tr>\n",
              "      <th>14</th>\n",
              "      <td>304.0</td>\n",
              "      <td>228</td>\n",
              "      <td>932.0</td>\n",
              "      <td>670.0</td>\n",
              "      <td>28</td>\n",
              "      <td>47.813782</td>\n",
              "    </tr>\n",
              "    <tr>\n",
              "      <th>15</th>\n",
              "      <td>380.0</td>\n",
              "      <td>228</td>\n",
              "      <td>932.0</td>\n",
              "      <td>670.0</td>\n",
              "      <td>90</td>\n",
              "      <td>52.908320</td>\n",
              "    </tr>\n",
              "    <tr>\n",
              "      <th>16</th>\n",
              "      <td>139.6</td>\n",
              "      <td>192</td>\n",
              "      <td>1047.0</td>\n",
              "      <td>806.9</td>\n",
              "      <td>90</td>\n",
              "      <td>39.358048</td>\n",
              "    </tr>\n",
              "    <tr>\n",
              "      <th>17</th>\n",
              "      <td>342.0</td>\n",
              "      <td>228</td>\n",
              "      <td>932.0</td>\n",
              "      <td>670.0</td>\n",
              "      <td>365</td>\n",
              "      <td>56.141962</td>\n",
              "    </tr>\n",
              "    <tr>\n",
              "      <th>18</th>\n",
              "      <td>380.0</td>\n",
              "      <td>228</td>\n",
              "      <td>932.0</td>\n",
              "      <td>594.0</td>\n",
              "      <td>90</td>\n",
              "      <td>40.563252</td>\n",
              "    </tr>\n",
              "    <tr>\n",
              "      <th>19</th>\n",
              "      <td>475.0</td>\n",
              "      <td>228</td>\n",
              "      <td>932.0</td>\n",
              "      <td>594.0</td>\n",
              "      <td>180</td>\n",
              "      <td>42.620648</td>\n",
              "    </tr>\n",
              "    <tr>\n",
              "      <th>20</th>\n",
              "      <td>427.5</td>\n",
              "      <td>228</td>\n",
              "      <td>932.0</td>\n",
              "      <td>594.0</td>\n",
              "      <td>180</td>\n",
              "      <td>41.836714</td>\n",
              "    </tr>\n",
              "    <tr>\n",
              "      <th>21</th>\n",
              "      <td>139.6</td>\n",
              "      <td>192</td>\n",
              "      <td>1047.0</td>\n",
              "      <td>806.9</td>\n",
              "      <td>28</td>\n",
              "      <td>28.237490</td>\n",
              "    </tr>\n",
              "    <tr>\n",
              "      <th>22</th>\n",
              "      <td>139.6</td>\n",
              "      <td>192</td>\n",
              "      <td>1047.0</td>\n",
              "      <td>806.9</td>\n",
              "      <td>3</td>\n",
              "      <td>8.063422</td>\n",
              "    </tr>\n",
              "    <tr>\n",
              "      <th>23</th>\n",
              "      <td>139.6</td>\n",
              "      <td>192</td>\n",
              "      <td>1047.0</td>\n",
              "      <td>806.9</td>\n",
              "      <td>180</td>\n",
              "      <td>44.207822</td>\n",
              "    </tr>\n",
              "    <tr>\n",
              "      <th>24</th>\n",
              "      <td>380.0</td>\n",
              "      <td>228</td>\n",
              "      <td>932.0</td>\n",
              "      <td>670.0</td>\n",
              "      <td>365</td>\n",
              "      <td>52.516697</td>\n",
              "    </tr>\n",
              "    <tr>\n",
              "      <th>25</th>\n",
              "      <td>380.0</td>\n",
              "      <td>228</td>\n",
              "      <td>932.0</td>\n",
              "      <td>670.0</td>\n",
              "      <td>270</td>\n",
              "      <td>53.300632</td>\n",
              "    </tr>\n",
              "    <tr>\n",
              "      <th>26</th>\n",
              "      <td>380.0</td>\n",
              "      <td>228</td>\n",
              "      <td>932.0</td>\n",
              "      <td>594.0</td>\n",
              "      <td>270</td>\n",
              "      <td>41.151375</td>\n",
              "    </tr>\n",
              "    <tr>\n",
              "      <th>27</th>\n",
              "      <td>342.0</td>\n",
              "      <td>228</td>\n",
              "      <td>932.0</td>\n",
              "      <td>670.0</td>\n",
              "      <td>180</td>\n",
              "      <td>52.124386</td>\n",
              "    </tr>\n",
              "    <tr>\n",
              "      <th>28</th>\n",
              "      <td>427.5</td>\n",
              "      <td>228</td>\n",
              "      <td>932.0</td>\n",
              "      <td>594.0</td>\n",
              "      <td>28</td>\n",
              "      <td>37.427515</td>\n",
              "    </tr>\n",
              "    <tr>\n",
              "      <th>29</th>\n",
              "      <td>475.0</td>\n",
              "      <td>228</td>\n",
              "      <td>932.0</td>\n",
              "      <td>594.0</td>\n",
              "      <td>7</td>\n",
              "      <td>38.603761</td>\n",
              "    </tr>\n",
              "    <tr>\n",
              "      <th>30</th>\n",
              "      <td>304.0</td>\n",
              "      <td>228</td>\n",
              "      <td>932.0</td>\n",
              "      <td>670.0</td>\n",
              "      <td>365</td>\n",
              "      <td>55.260122</td>\n",
              "    </tr>\n",
              "    <tr>\n",
              "      <th>31</th>\n",
              "      <td>266.0</td>\n",
              "      <td>228</td>\n",
              "      <td>932.0</td>\n",
              "      <td>670.0</td>\n",
              "      <td>365</td>\n",
              "      <td>52.908320</td>\n",
              "    </tr>\n",
              "    <tr>\n",
              "      <th>32</th>\n",
              "      <td>198.6</td>\n",
              "      <td>192</td>\n",
              "      <td>978.4</td>\n",
              "      <td>825.5</td>\n",
              "      <td>180</td>\n",
              "      <td>41.719503</td>\n",
              "    </tr>\n",
              "    <tr>\n",
              "      <th>33</th>\n",
              "      <td>475.0</td>\n",
              "      <td>228</td>\n",
              "      <td>932.0</td>\n",
              "      <td>594.0</td>\n",
              "      <td>270</td>\n",
              "      <td>42.131120</td>\n",
              "    </tr>\n",
              "    <tr>\n",
              "      <th>34</th>\n",
              "      <td>190.0</td>\n",
              "      <td>228</td>\n",
              "      <td>932.0</td>\n",
              "      <td>670.0</td>\n",
              "      <td>365</td>\n",
              "      <td>53.692254</td>\n",
              "    </tr>\n",
              "    <tr>\n",
              "      <th>35</th>\n",
              "      <td>237.5</td>\n",
              "      <td>228</td>\n",
              "      <td>932.0</td>\n",
              "      <td>594.0</td>\n",
              "      <td>270</td>\n",
              "      <td>38.407950</td>\n",
              "    </tr>\n",
              "    <tr>\n",
              "      <th>36</th>\n",
              "      <td>237.5</td>\n",
              "      <td>228</td>\n",
              "      <td>932.0</td>\n",
              "      <td>594.0</td>\n",
              "      <td>28</td>\n",
              "      <td>30.079769</td>\n",
              "    </tr>\n",
              "    <tr>\n",
              "      <th>37</th>\n",
              "      <td>332.5</td>\n",
              "      <td>228</td>\n",
              "      <td>932.0</td>\n",
              "      <td>594.0</td>\n",
              "      <td>90</td>\n",
              "      <td>37.721921</td>\n",
              "    </tr>\n",
              "    <tr>\n",
              "      <th>38</th>\n",
              "      <td>475.0</td>\n",
              "      <td>228</td>\n",
              "      <td>932.0</td>\n",
              "      <td>594.0</td>\n",
              "      <td>90</td>\n",
              "      <td>42.229026</td>\n",
              "    </tr>\n",
              "    <tr>\n",
              "      <th>39</th>\n",
              "      <td>237.5</td>\n",
              "      <td>228</td>\n",
              "      <td>932.0</td>\n",
              "      <td>594.0</td>\n",
              "      <td>180</td>\n",
              "      <td>36.251959</td>\n",
              "    </tr>\n",
              "  </tbody>\n",
              "</table>\n",
              "</div>\n",
              "      <button class=\"colab-df-convert\" onclick=\"convertToInteractive('df-ea1d0860-01bc-4ec8-a774-4bc29c28306f')\"\n",
              "              title=\"Convert this dataframe to an interactive table.\"\n",
              "              style=\"display:none;\">\n",
              "        \n",
              "  <svg xmlns=\"http://www.w3.org/2000/svg\" height=\"24px\"viewBox=\"0 0 24 24\"\n",
              "       width=\"24px\">\n",
              "    <path d=\"M0 0h24v24H0V0z\" fill=\"none\"/>\n",
              "    <path d=\"M18.56 5.44l.94 2.06.94-2.06 2.06-.94-2.06-.94-.94-2.06-.94 2.06-2.06.94zm-11 1L8.5 8.5l.94-2.06 2.06-.94-2.06-.94L8.5 2.5l-.94 2.06-2.06.94zm10 10l.94 2.06.94-2.06 2.06-.94-2.06-.94-.94-2.06-.94 2.06-2.06.94z\"/><path d=\"M17.41 7.96l-1.37-1.37c-.4-.4-.92-.59-1.43-.59-.52 0-1.04.2-1.43.59L10.3 9.45l-7.72 7.72c-.78.78-.78 2.05 0 2.83L4 21.41c.39.39.9.59 1.41.59.51 0 1.02-.2 1.41-.59l7.78-7.78 2.81-2.81c.8-.78.8-2.07 0-2.86zM5.41 20L4 18.59l7.72-7.72 1.47 1.35L5.41 20z\"/>\n",
              "  </svg>\n",
              "      </button>\n",
              "      \n",
              "  <style>\n",
              "    .colab-df-container {\n",
              "      display:flex;\n",
              "      flex-wrap:wrap;\n",
              "      gap: 12px;\n",
              "    }\n",
              "\n",
              "    .colab-df-convert {\n",
              "      background-color: #E8F0FE;\n",
              "      border: none;\n",
              "      border-radius: 50%;\n",
              "      cursor: pointer;\n",
              "      display: none;\n",
              "      fill: #1967D2;\n",
              "      height: 32px;\n",
              "      padding: 0 0 0 0;\n",
              "      width: 32px;\n",
              "    }\n",
              "\n",
              "    .colab-df-convert:hover {\n",
              "      background-color: #E2EBFA;\n",
              "      box-shadow: 0px 1px 2px rgba(60, 64, 67, 0.3), 0px 1px 3px 1px rgba(60, 64, 67, 0.15);\n",
              "      fill: #174EA6;\n",
              "    }\n",
              "\n",
              "    [theme=dark] .colab-df-convert {\n",
              "      background-color: #3B4455;\n",
              "      fill: #D2E3FC;\n",
              "    }\n",
              "\n",
              "    [theme=dark] .colab-df-convert:hover {\n",
              "      background-color: #434B5C;\n",
              "      box-shadow: 0px 1px 3px 1px rgba(0, 0, 0, 0.15);\n",
              "      filter: drop-shadow(0px 1px 2px rgba(0, 0, 0, 0.3));\n",
              "      fill: #FFFFFF;\n",
              "    }\n",
              "  </style>\n",
              "\n",
              "      <script>\n",
              "        const buttonEl =\n",
              "          document.querySelector('#df-ea1d0860-01bc-4ec8-a774-4bc29c28306f button.colab-df-convert');\n",
              "        buttonEl.style.display =\n",
              "          google.colab.kernel.accessAllowed ? 'block' : 'none';\n",
              "\n",
              "        async function convertToInteractive(key) {\n",
              "          const element = document.querySelector('#df-ea1d0860-01bc-4ec8-a774-4bc29c28306f');\n",
              "          const dataTable =\n",
              "            await google.colab.kernel.invokeFunction('convertToInteractive',\n",
              "                                                     [key], {});\n",
              "          if (!dataTable) return;\n",
              "\n",
              "          const docLinkHtml = 'Like what you see? Visit the ' +\n",
              "            '<a target=\"_blank\" href=https://colab.research.google.com/notebooks/data_table.ipynb>data table notebook</a>'\n",
              "            + ' to learn more about interactive tables.';\n",
              "          element.innerHTML = '';\n",
              "          dataTable['output_type'] = 'display_data';\n",
              "          await google.colab.output.renderOutput(dataTable, element);\n",
              "          const docLink = document.createElement('div');\n",
              "          docLink.innerHTML = docLinkHtml;\n",
              "          element.appendChild(docLink);\n",
              "        }\n",
              "      </script>\n",
              "    </div>\n",
              "  </div>\n",
              "  "
            ]
          },
          "metadata": {},
          "execution_count": 20
        }
      ]
    },
    {
      "cell_type": "code",
      "source": [
        "lab2.describe()"
      ],
      "metadata": {
        "id": "xqah_Sb9ekYr",
        "colab": {
          "base_uri": "https://localhost:8080/",
          "height": 364
        },
        "outputId": "eb31340d-af5f-41ee-fb65-36baaae2a156"
      },
      "execution_count": null,
      "outputs": [
        {
          "output_type": "execute_result",
          "data": {
            "text/plain": [
              "          Cement        Water  Coarse_Aggregate   Fine_Aggregate         Age  \\\n",
              "count   40.000000   40.000000          40.000000       40.000000   40.000000   \n",
              "mean   323.257500  217.500000         953.915000      665.340000  165.625000   \n",
              "std    116.620498   19.394686          42.090912       83.950354  131.012563   \n",
              "min    139.600000  162.000000         932.000000      594.000000    3.000000   \n",
              "25%    227.775000  219.000000         932.000000      594.000000   28.000000   \n",
              "50%    332.500000  228.000000         932.000000      670.000000  135.000000   \n",
              "75%    391.875000  228.000000         943.600000      671.500000  270.000000   \n",
              "max    540.000000  228.000000        1055.000000      825.500000  365.000000   \n",
              "\n",
              "        Strength  \n",
              "count  40.000000  \n",
              "mean   43.463136  \n",
              "std    11.065465  \n",
              "min     8.063422  \n",
              "25%    38.554808  \n",
              "50%    42.180073  \n",
              "75%    48.891433  \n",
              "max    79.986111  "
            ],
            "text/html": [
              "\n",
              "  <div id=\"df-2b979c6b-356a-459f-8a26-fd78deccfbd6\">\n",
              "    <div class=\"colab-df-container\">\n",
              "      <div>\n",
              "<style scoped>\n",
              "    .dataframe tbody tr th:only-of-type {\n",
              "        vertical-align: middle;\n",
              "    }\n",
              "\n",
              "    .dataframe tbody tr th {\n",
              "        vertical-align: top;\n",
              "    }\n",
              "\n",
              "    .dataframe thead th {\n",
              "        text-align: right;\n",
              "    }\n",
              "</style>\n",
              "<table border=\"1\" class=\"dataframe\">\n",
              "  <thead>\n",
              "    <tr style=\"text-align: right;\">\n",
              "      <th></th>\n",
              "      <th>Cement</th>\n",
              "      <th>Water</th>\n",
              "      <th>Coarse_Aggregate</th>\n",
              "      <th>Fine_Aggregate</th>\n",
              "      <th>Age</th>\n",
              "      <th>Strength</th>\n",
              "    </tr>\n",
              "  </thead>\n",
              "  <tbody>\n",
              "    <tr>\n",
              "      <th>count</th>\n",
              "      <td>40.000000</td>\n",
              "      <td>40.000000</td>\n",
              "      <td>40.000000</td>\n",
              "      <td>40.000000</td>\n",
              "      <td>40.000000</td>\n",
              "      <td>40.000000</td>\n",
              "    </tr>\n",
              "    <tr>\n",
              "      <th>mean</th>\n",
              "      <td>323.257500</td>\n",
              "      <td>217.500000</td>\n",
              "      <td>953.915000</td>\n",
              "      <td>665.340000</td>\n",
              "      <td>165.625000</td>\n",
              "      <td>43.463136</td>\n",
              "    </tr>\n",
              "    <tr>\n",
              "      <th>std</th>\n",
              "      <td>116.620498</td>\n",
              "      <td>19.394686</td>\n",
              "      <td>42.090912</td>\n",
              "      <td>83.950354</td>\n",
              "      <td>131.012563</td>\n",
              "      <td>11.065465</td>\n",
              "    </tr>\n",
              "    <tr>\n",
              "      <th>min</th>\n",
              "      <td>139.600000</td>\n",
              "      <td>162.000000</td>\n",
              "      <td>932.000000</td>\n",
              "      <td>594.000000</td>\n",
              "      <td>3.000000</td>\n",
              "      <td>8.063422</td>\n",
              "    </tr>\n",
              "    <tr>\n",
              "      <th>25%</th>\n",
              "      <td>227.775000</td>\n",
              "      <td>219.000000</td>\n",
              "      <td>932.000000</td>\n",
              "      <td>594.000000</td>\n",
              "      <td>28.000000</td>\n",
              "      <td>38.554808</td>\n",
              "    </tr>\n",
              "    <tr>\n",
              "      <th>50%</th>\n",
              "      <td>332.500000</td>\n",
              "      <td>228.000000</td>\n",
              "      <td>932.000000</td>\n",
              "      <td>670.000000</td>\n",
              "      <td>135.000000</td>\n",
              "      <td>42.180073</td>\n",
              "    </tr>\n",
              "    <tr>\n",
              "      <th>75%</th>\n",
              "      <td>391.875000</td>\n",
              "      <td>228.000000</td>\n",
              "      <td>943.600000</td>\n",
              "      <td>671.500000</td>\n",
              "      <td>270.000000</td>\n",
              "      <td>48.891433</td>\n",
              "    </tr>\n",
              "    <tr>\n",
              "      <th>max</th>\n",
              "      <td>540.000000</td>\n",
              "      <td>228.000000</td>\n",
              "      <td>1055.000000</td>\n",
              "      <td>825.500000</td>\n",
              "      <td>365.000000</td>\n",
              "      <td>79.986111</td>\n",
              "    </tr>\n",
              "  </tbody>\n",
              "</table>\n",
              "</div>\n",
              "      <button class=\"colab-df-convert\" onclick=\"convertToInteractive('df-2b979c6b-356a-459f-8a26-fd78deccfbd6')\"\n",
              "              title=\"Convert this dataframe to an interactive table.\"\n",
              "              style=\"display:none;\">\n",
              "        \n",
              "  <svg xmlns=\"http://www.w3.org/2000/svg\" height=\"24px\"viewBox=\"0 0 24 24\"\n",
              "       width=\"24px\">\n",
              "    <path d=\"M0 0h24v24H0V0z\" fill=\"none\"/>\n",
              "    <path d=\"M18.56 5.44l.94 2.06.94-2.06 2.06-.94-2.06-.94-.94-2.06-.94 2.06-2.06.94zm-11 1L8.5 8.5l.94-2.06 2.06-.94-2.06-.94L8.5 2.5l-.94 2.06-2.06.94zm10 10l.94 2.06.94-2.06 2.06-.94-2.06-.94-.94-2.06-.94 2.06-2.06.94z\"/><path d=\"M17.41 7.96l-1.37-1.37c-.4-.4-.92-.59-1.43-.59-.52 0-1.04.2-1.43.59L10.3 9.45l-7.72 7.72c-.78.78-.78 2.05 0 2.83L4 21.41c.39.39.9.59 1.41.59.51 0 1.02-.2 1.41-.59l7.78-7.78 2.81-2.81c.8-.78.8-2.07 0-2.86zM5.41 20L4 18.59l7.72-7.72 1.47 1.35L5.41 20z\"/>\n",
              "  </svg>\n",
              "      </button>\n",
              "      \n",
              "  <style>\n",
              "    .colab-df-container {\n",
              "      display:flex;\n",
              "      flex-wrap:wrap;\n",
              "      gap: 12px;\n",
              "    }\n",
              "\n",
              "    .colab-df-convert {\n",
              "      background-color: #E8F0FE;\n",
              "      border: none;\n",
              "      border-radius: 50%;\n",
              "      cursor: pointer;\n",
              "      display: none;\n",
              "      fill: #1967D2;\n",
              "      height: 32px;\n",
              "      padding: 0 0 0 0;\n",
              "      width: 32px;\n",
              "    }\n",
              "\n",
              "    .colab-df-convert:hover {\n",
              "      background-color: #E2EBFA;\n",
              "      box-shadow: 0px 1px 2px rgba(60, 64, 67, 0.3), 0px 1px 3px 1px rgba(60, 64, 67, 0.15);\n",
              "      fill: #174EA6;\n",
              "    }\n",
              "\n",
              "    [theme=dark] .colab-df-convert {\n",
              "      background-color: #3B4455;\n",
              "      fill: #D2E3FC;\n",
              "    }\n",
              "\n",
              "    [theme=dark] .colab-df-convert:hover {\n",
              "      background-color: #434B5C;\n",
              "      box-shadow: 0px 1px 3px 1px rgba(0, 0, 0, 0.15);\n",
              "      filter: drop-shadow(0px 1px 2px rgba(0, 0, 0, 0.3));\n",
              "      fill: #FFFFFF;\n",
              "    }\n",
              "  </style>\n",
              "\n",
              "      <script>\n",
              "        const buttonEl =\n",
              "          document.querySelector('#df-2b979c6b-356a-459f-8a26-fd78deccfbd6 button.colab-df-convert');\n",
              "        buttonEl.style.display =\n",
              "          google.colab.kernel.accessAllowed ? 'block' : 'none';\n",
              "\n",
              "        async function convertToInteractive(key) {\n",
              "          const element = document.querySelector('#df-2b979c6b-356a-459f-8a26-fd78deccfbd6');\n",
              "          const dataTable =\n",
              "            await google.colab.kernel.invokeFunction('convertToInteractive',\n",
              "                                                     [key], {});\n",
              "          if (!dataTable) return;\n",
              "\n",
              "          const docLinkHtml = 'Like what you see? Visit the ' +\n",
              "            '<a target=\"_blank\" href=https://colab.research.google.com/notebooks/data_table.ipynb>data table notebook</a>'\n",
              "            + ' to learn more about interactive tables.';\n",
              "          element.innerHTML = '';\n",
              "          dataTable['output_type'] = 'display_data';\n",
              "          await google.colab.output.renderOutput(dataTable, element);\n",
              "          const docLink = document.createElement('div');\n",
              "          docLink.innerHTML = docLinkHtml;\n",
              "          element.appendChild(docLink);\n",
              "        }\n",
              "      </script>\n",
              "    </div>\n",
              "  </div>\n",
              "  "
            ]
          },
          "metadata": {},
          "execution_count": 21
        }
      ]
    },
    {
      "cell_type": "code",
      "source": [
        "x=lab2['Cement '].mean()\n",
        "y=lab2['Cement '].median()\n",
        "z=lab2['Cement '].mode()\n",
        "print('Mean Cement= ',x,'Median Cement= ',y, 'Mode Cement= ',z)\n",
        "     "
      ],
      "metadata": {
        "colab": {
          "base_uri": "https://localhost:8080/"
        },
        "id": "V_CdjyrDAhWo",
        "outputId": "548d224d-6628-4fe5-fde5-926dd6bf5549"
      },
      "execution_count": null,
      "outputs": [
        {
          "output_type": "stream",
          "name": "stdout",
          "text": [
            "Mean Cement=  323.2575 Median Cement=  332.5 Mode Cement=  0    380.0\n",
            "dtype: float64\n"
          ]
        }
      ]
    },
    {
      "cell_type": "code",
      "source": [
        "x=lab2['Fine_Aggregate'].mean()\n",
        "y=lab2['Fine_Aggregate'].median()\n",
        "z=lab2['Fine_Aggregate'].mode()\n",
        "print('Mean Fine_Aggregate= ',x,'Median Fine_Aggregate= ',y, 'Mode Fine_Aggregate= ',z)"
      ],
      "metadata": {
        "id": "VhkxIn_zBPo5",
        "colab": {
          "base_uri": "https://localhost:8080/"
        },
        "outputId": "72c5f26f-cd0a-4c38-b4c9-d716b13e2a66"
      },
      "execution_count": null,
      "outputs": [
        {
          "output_type": "stream",
          "name": "stdout",
          "text": [
            "Mean Fine_Aggregate=  665.3399999999999 Median Fine_Aggregate=  670.0 Mode Fine_Aggregate=  0    594.0\n",
            "dtype: float64\n"
          ]
        }
      ]
    },
    {
      "cell_type": "code",
      "source": [
        "x=lab2['Strength'].mean()\n",
        "y=lab2['Strength'].median()\n",
        "z=lab2['Strength'].mode()\n",
        "print('Mean Strength= ',x,'Median Strength= ',y, 'Mode Strength= ',z)"
      ],
      "metadata": {
        "id": "sbLDPBteBOKg",
        "colab": {
          "base_uri": "https://localhost:8080/"
        },
        "outputId": "8d530d8a-06d4-46cc-a020-67eeed7dc617"
      },
      "execution_count": null,
      "outputs": [
        {
          "output_type": "stream",
          "name": "stdout",
          "text": [
            "Mean Strength=  43.463136377249995 Median Strength=  42.180073254999996 Mode Strength=  0    52.90832\n",
            "dtype: float64\n"
          ]
        }
      ]
    },
    {
      "cell_type": "code",
      "source": [
        "Range= lab2['Cement '].max()-lab2['Cement '].min()\n",
        "Range"
      ],
      "metadata": {
        "id": "fFTzH7xKCP-a",
        "colab": {
          "base_uri": "https://localhost:8080/"
        },
        "outputId": "63df0674-6a94-4169-8be6-00d4ad74488a"
      },
      "execution_count": null,
      "outputs": [
        {
          "output_type": "execute_result",
          "data": {
            "text/plain": [
              "400.4"
            ]
          },
          "metadata": {},
          "execution_count": 25
        }
      ]
    },
    {
      "cell_type": "code",
      "source": [
        "Range= lab2['Coarse_Aggregate '].max()-lab2['Coarse_Aggregate '].min()\n",
        "Range"
      ],
      "metadata": {
        "id": "HVTRVympDTWk",
        "colab": {
          "base_uri": "https://localhost:8080/"
        },
        "outputId": "cc6aaaf3-9d6e-4009-8fba-1ede55550cdd"
      },
      "execution_count": null,
      "outputs": [
        {
          "output_type": "execute_result",
          "data": {
            "text/plain": [
              "123.0"
            ]
          },
          "metadata": {},
          "execution_count": 26
        }
      ]
    },
    {
      "cell_type": "code",
      "source": [
        "Range= lab2['Fine_Aggregate'].max()-lab2['Fine_Aggregate'].min()\n",
        "Range"
      ],
      "metadata": {
        "id": "XZtfyVZnDRFi",
        "colab": {
          "base_uri": "https://localhost:8080/"
        },
        "outputId": "7ff2899b-466b-4635-da7e-976053a1d9e5"
      },
      "execution_count": null,
      "outputs": [
        {
          "output_type": "execute_result",
          "data": {
            "text/plain": [
              "231.5"
            ]
          },
          "metadata": {},
          "execution_count": 27
        }
      ]
    },
    {
      "cell_type": "code",
      "source": [
        "Range= lab2['Strength'].max()-lab2['Strength'].min()\n",
        "Range"
      ],
      "metadata": {
        "id": "TaaB0-qbDf8y",
        "colab": {
          "base_uri": "https://localhost:8080/"
        },
        "outputId": "be0cfbf6-ef81-4c60-964c-e2d1d0317b2d"
      },
      "execution_count": 56,
      "outputs": [
        {
          "output_type": "execute_result",
          "data": {
            "text/plain": [
              "71.92268894"
            ]
          },
          "metadata": {},
          "execution_count": 56
        }
      ]
    },
    {
      "cell_type": "code",
      "source": [
        "Q1= np.percentile(lab2['Cement '],(25))\n",
        "Q1"
      ],
      "metadata": {
        "id": "kMY2cuPcCX_s",
        "colab": {
          "base_uri": "https://localhost:8080/"
        },
        "outputId": "3ccc9886-653e-431e-ee41-ee214543c164"
      },
      "execution_count": null,
      "outputs": [
        {
          "output_type": "execute_result",
          "data": {
            "text/plain": [
              "227.775"
            ]
          },
          "metadata": {},
          "execution_count": 29
        }
      ]
    },
    {
      "cell_type": "code",
      "source": [
        "Q1= np.percentile(lab2['Coarse_Aggregate '],(25))\n",
        "Q1"
      ],
      "metadata": {
        "colab": {
          "base_uri": "https://localhost:8080/"
        },
        "id": "egzHLroZonsD",
        "outputId": "c4cc2b0a-197b-4402-cdae-d53c37fb3cb9"
      },
      "execution_count": null,
      "outputs": [
        {
          "output_type": "execute_result",
          "data": {
            "text/plain": [
              "932.0"
            ]
          },
          "metadata": {},
          "execution_count": 30
        }
      ]
    },
    {
      "cell_type": "code",
      "source": [
        "Q1= np.percentile(lab2['Fine_Aggregate'],(25))\n",
        "Q1"
      ],
      "metadata": {
        "colab": {
          "base_uri": "https://localhost:8080/"
        },
        "id": "8QRoSMa4oopx",
        "outputId": "55908956-e9f8-41ba-d8aa-bfa939aa65c1"
      },
      "execution_count": null,
      "outputs": [
        {
          "output_type": "execute_result",
          "data": {
            "text/plain": [
              "594.0"
            ]
          },
          "metadata": {},
          "execution_count": 31
        }
      ]
    },
    {
      "cell_type": "code",
      "source": [
        "Q1= np.percentile(lab2['Strength'],(25))\n",
        "Q1"
      ],
      "metadata": {
        "colab": {
          "base_uri": "https://localhost:8080/"
        },
        "id": "ovUUe1DjooSE",
        "outputId": "bf9f839d-5b6c-4881-bc51-a69f8cc54fde"
      },
      "execution_count": null,
      "outputs": [
        {
          "output_type": "execute_result",
          "data": {
            "text/plain": [
              "38.554808445"
            ]
          },
          "metadata": {},
          "execution_count": 32
        }
      ]
    },
    {
      "cell_type": "code",
      "source": [
        "Q2= np.percentile(lab2['Cement '],(50))\n",
        "Q2"
      ],
      "metadata": {
        "id": "tqXzpTPDEHJF",
        "colab": {
          "base_uri": "https://localhost:8080/"
        },
        "outputId": "a082638b-0735-4e09-cd1a-3f5338bbb22c"
      },
      "execution_count": null,
      "outputs": [
        {
          "output_type": "execute_result",
          "data": {
            "text/plain": [
              "332.5"
            ]
          },
          "metadata": {},
          "execution_count": 33
        }
      ]
    },
    {
      "cell_type": "code",
      "source": [
        "Q2= np.percentile(lab2['Coarse_Aggregate '],(50))\n",
        "Q2"
      ],
      "metadata": {
        "colab": {
          "base_uri": "https://localhost:8080/"
        },
        "id": "oeTVu7HWpr4t",
        "outputId": "28c120d3-fe37-4401-f109-d91ca2119fa8"
      },
      "execution_count": null,
      "outputs": [
        {
          "output_type": "execute_result",
          "data": {
            "text/plain": [
              "932.0"
            ]
          },
          "metadata": {},
          "execution_count": 34
        }
      ]
    },
    {
      "cell_type": "code",
      "source": [
        "Q2= np.percentile(lab2['Fine_Aggregate'],(50))\n",
        "Q2"
      ],
      "metadata": {
        "colab": {
          "base_uri": "https://localhost:8080/"
        },
        "id": "G88HlE1Ypr0d",
        "outputId": "2a0a60d1-a2b4-4c32-ce25-58ea10b5bd4d"
      },
      "execution_count": null,
      "outputs": [
        {
          "output_type": "execute_result",
          "data": {
            "text/plain": [
              "670.0"
            ]
          },
          "metadata": {},
          "execution_count": 35
        }
      ]
    },
    {
      "cell_type": "code",
      "source": [
        "Q2= np.percentile(lab2['Strength'],(50))\n",
        "Q2"
      ],
      "metadata": {
        "colab": {
          "base_uri": "https://localhost:8080/"
        },
        "id": "2bP1vWYbprrY",
        "outputId": "860d63f1-e315-45ad-cd2a-2d8535b59c64"
      },
      "execution_count": null,
      "outputs": [
        {
          "output_type": "execute_result",
          "data": {
            "text/plain": [
              "42.180073254999996"
            ]
          },
          "metadata": {},
          "execution_count": 36
        }
      ]
    },
    {
      "cell_type": "code",
      "source": [
        "Q3= np.percentile(lab2['Cement '],(75))\n",
        "Q3"
      ],
      "metadata": {
        "id": "S81WmO8rEZUE",
        "colab": {
          "base_uri": "https://localhost:8080/"
        },
        "outputId": "ba7a393e-eef5-45c8-c672-1de33c8928d9"
      },
      "execution_count": null,
      "outputs": [
        {
          "output_type": "execute_result",
          "data": {
            "text/plain": [
              "391.875"
            ]
          },
          "metadata": {},
          "execution_count": 37
        }
      ]
    },
    {
      "cell_type": "code",
      "source": [
        "Q3= np.percentile(lab2['Coarse_Aggregate '],(75))\n",
        "Q3"
      ],
      "metadata": {
        "colab": {
          "base_uri": "https://localhost:8080/"
        },
        "id": "TeozCC5PqGW5",
        "outputId": "509d1bd8-21ab-4490-cdbd-628ec6485125"
      },
      "execution_count": null,
      "outputs": [
        {
          "output_type": "execute_result",
          "data": {
            "text/plain": [
              "943.6"
            ]
          },
          "metadata": {},
          "execution_count": 38
        }
      ]
    },
    {
      "cell_type": "code",
      "source": [
        "Q3= np.percentile(lab2['Fine_Aggregate'],(75))\n",
        "Q3"
      ],
      "metadata": {
        "colab": {
          "base_uri": "https://localhost:8080/"
        },
        "id": "RXZbzoHqqGOQ",
        "outputId": "0851db7c-686b-46a2-c3b0-95de8207c540"
      },
      "execution_count": null,
      "outputs": [
        {
          "output_type": "execute_result",
          "data": {
            "text/plain": [
              "671.5"
            ]
          },
          "metadata": {},
          "execution_count": 39
        }
      ]
    },
    {
      "cell_type": "code",
      "source": [
        "Q3= np.percentile(lab2['Strength'],(75))\n",
        "Q3"
      ],
      "metadata": {
        "colab": {
          "base_uri": "https://localhost:8080/"
        },
        "id": "BUxVE-tbqGFb",
        "outputId": "02a96104-7e9b-4bd0-8f33-0bde164d6f0f"
      },
      "execution_count": null,
      "outputs": [
        {
          "output_type": "execute_result",
          "data": {
            "text/plain": [
              "48.8914326375"
            ]
          },
          "metadata": {},
          "execution_count": 40
        }
      ]
    },
    {
      "cell_type": "code",
      "source": [
        "lab2['Cement '].var()"
      ],
      "metadata": {
        "id": "P-KAt_0UDzkh",
        "colab": {
          "base_uri": "https://localhost:8080/"
        },
        "outputId": "1f3843fe-897c-4d1e-82b2-2920e6d386b6"
      },
      "execution_count": null,
      "outputs": [
        {
          "output_type": "execute_result",
          "data": {
            "text/plain": [
              "13600.340455128206"
            ]
          },
          "metadata": {},
          "execution_count": 41
        }
      ]
    },
    {
      "cell_type": "code",
      "source": [
        "lab2['Cement '].std()"
      ],
      "metadata": {
        "id": "94xa_KanD2_I",
        "colab": {
          "base_uri": "https://localhost:8080/"
        },
        "outputId": "83b9bf62-1849-4ed2-8943-93b61bbc93aa"
      },
      "execution_count": null,
      "outputs": [
        {
          "output_type": "execute_result",
          "data": {
            "text/plain": [
              "116.62049757709065"
            ]
          },
          "metadata": {},
          "execution_count": 42
        }
      ]
    },
    {
      "cell_type": "code",
      "source": [
        "lab2['Coarse_Aggregate '].var()"
      ],
      "metadata": {
        "id": "Jjc0sMs6FLze",
        "colab": {
          "base_uri": "https://localhost:8080/"
        },
        "outputId": "71f68f52-120c-4900-d3a5-46150fe89db9"
      },
      "execution_count": null,
      "outputs": [
        {
          "output_type": "execute_result",
          "data": {
            "text/plain": [
              "1771.644897435897"
            ]
          },
          "metadata": {},
          "execution_count": 43
        }
      ]
    },
    {
      "cell_type": "code",
      "source": [
        "lab2['Coarse_Aggregate '].std()"
      ],
      "metadata": {
        "id": "LoVZXuc0E9kf",
        "colab": {
          "base_uri": "https://localhost:8080/"
        },
        "outputId": "db40d706-3289-4c04-b909-789507abd750"
      },
      "execution_count": null,
      "outputs": [
        {
          "output_type": "execute_result",
          "data": {
            "text/plain": [
              "42.09091229037329"
            ]
          },
          "metadata": {},
          "execution_count": 44
        }
      ]
    },
    {
      "cell_type": "code",
      "source": [
        "lab2['Fine_Aggregate'].var()"
      ],
      "metadata": {
        "id": "kSAEPfrTFUe4",
        "colab": {
          "base_uri": "https://localhost:8080/"
        },
        "outputId": "b0201694-4aad-44de-b77c-365a554aea07"
      },
      "execution_count": null,
      "outputs": [
        {
          "output_type": "execute_result",
          "data": {
            "text/plain": [
              "7047.661948717949"
            ]
          },
          "metadata": {},
          "execution_count": 45
        }
      ]
    },
    {
      "cell_type": "code",
      "source": [
        "lab2['Fine_Aggregate'].std()"
      ],
      "metadata": {
        "id": "B_wH_dMEFUa_",
        "colab": {
          "base_uri": "https://localhost:8080/"
        },
        "outputId": "60dd293b-c2b2-45ef-ce77-a535e5da2a8c"
      },
      "execution_count": null,
      "outputs": [
        {
          "output_type": "execute_result",
          "data": {
            "text/plain": [
              "83.95035407142693"
            ]
          },
          "metadata": {},
          "execution_count": 46
        }
      ]
    },
    {
      "cell_type": "code",
      "source": [
        "lab2['Strength'].var()"
      ],
      "metadata": {
        "id": "vfJ_DSV4FUVd",
        "colab": {
          "base_uri": "https://localhost:8080/"
        },
        "outputId": "b659cab4-73bb-4c80-e0f9-4065d5df7911"
      },
      "execution_count": null,
      "outputs": [
        {
          "output_type": "execute_result",
          "data": {
            "text/plain": [
              "122.44451823782761"
            ]
          },
          "metadata": {},
          "execution_count": 47
        }
      ]
    },
    {
      "cell_type": "code",
      "source": [
        "lab2['Strength'].std()"
      ],
      "metadata": {
        "id": "EhzZoN4bFUNk",
        "colab": {
          "base_uri": "https://localhost:8080/"
        },
        "outputId": "41dc1d75-1a21-4f02-dc4e-59911267a57e"
      },
      "execution_count": null,
      "outputs": [
        {
          "output_type": "execute_result",
          "data": {
            "text/plain": [
              "11.065465116199482"
            ]
          },
          "metadata": {},
          "execution_count": 48
        }
      ]
    },
    {
      "cell_type": "code",
      "source": [
        "!pip install stemgraphic\n",
        "import stemgraphic as STM"
      ],
      "metadata": {
        "id": "WkZIO3bqfamR"
      },
      "execution_count": null,
      "outputs": []
    },
    {
      "cell_type": "code",
      "source": [
        "Fig, ax=STM.stem_graphic(lab2['Fine_Aggregate'],scale=100)"
      ],
      "metadata": {
        "id": "nfnV9Q2kfixw"
      },
      "execution_count": null,
      "outputs": []
    },
    {
      "cell_type": "code",
      "source": [
        "Fig, ax=STM.stem_graphic(lab2['Strength'],scale=10)"
      ],
      "metadata": {
        "id": "vy7kFU9JfHpG"
      },
      "execution_count": null,
      "outputs": []
    },
    {
      "cell_type": "code",
      "source": [
        "plt.figure(figsize=(15,10))\n",
        "plt.boxplot([lab2['Fine_Aggregate'],lab2['Strength']])\n",
        "plt.title('Fine vs Strength' )\n",
        "plt.xlabel('Fine')\n",
        "plt.ylabel('Strength')\n",
        "plt.show()"
      ],
      "metadata": {
        "colab": {
          "base_uri": "https://localhost:8080/",
          "height": 621
        },
        "id": "rKpI_9ePziz-",
        "outputId": "74b7edae-362c-432c-a5bb-67fc49b552c0"
      },
      "execution_count": 64,
      "outputs": [
        {
          "output_type": "display_data",
          "data": {
            "text/plain": [
              "<Figure size 1080x720 with 1 Axes>"
            ],
            "image/png": "[encoded data removed]"
          },
          "metadata": {
            "needs_background": "light"
          }
        }
      ]
    },
    {
      "cell_type": "code",
      "source": [
        "lab2['Fine_Aggregate'].hist(bins=40)\n",
        "ax.set_title('Fine')\n",
        "plt.tight_layout()\n",
        "plt.show()"
      ],
      "metadata": {
        "colab": {
          "base_uri": "https://localhost:8080/",
          "height": 297
        },
        "id": "7Fb3aQUA5FUn",
        "outputId": "9d286302-a64b-4637-f0ef-8ca2316adedd"
      },
      "execution_count": 62,
      "outputs": [
        {
          "output_type": "display_data",
          "data": {
            "text/plain": [
              "<Figure size 432x288 with 1 Axes>"
            ],
            "image/png": "[encoded data removed]"
          },
          "metadata": {
            "needs_background": "light"
          }
        }
      ]
    },
    {
      "cell_type": "code",
      "source": [
        "lab2['Strength'].hist(bins=40)\n",
        "ax.set_title('Strength')\n",
        "plt.tight_layout()\n",
        "plt.show()"
      ],
      "metadata": {
        "colab": {
          "base_uri": "https://localhost:8080/",
          "height": 297
        },
        "id": "nnJ0Z1ol7KIT",
        "outputId": "c304b85e-b2e3-4d7f-ece9-bcdc498d39f9"
      },
      "execution_count": 63,
      "outputs": [
        {
          "output_type": "display_data",
          "data": {
            "text/plain": [
              "<Figure size 432x288 with 1 Axes>"
            ],
            "image/png": "[encoded data removed]"
          },
          "metadata": {
            "needs_background": "light"
          }
        }
      ]
    },
    {
      "cell_type": "code",
      "source": [
        "fig, ((ax1, ax2,ax3)) = plt.subplots(nrows=1,ncols=3,figsize=(15,4))\n",
        "ax1.plot()\n",
        "ax2.plot()\n",
        "ax3.plot()\n",
        "ax1.scatter(lab2['Cement '],lab2['Strength'],color='r')\n",
        "ax1.set(title='Cement vs Strength',xlabel='cement',ylabel='strength')\n",
        "ax2.scatter(lab2['Coarse_Aggregate '],lab2['Strength'],color='g')\n",
        "ax2.set(title='Coarse vs Strength',xlabel='Coarse',ylabel='Strength')\n",
        "ax3.scatter(lab2['Fine_Aggregate'],lab2['Strength'],color='b')\n",
        "ax3.set(title='Fine vs Strength',xlabel='Fine',ylabel='Strength')\n",
        "plt.show()\n"
      ],
      "metadata": {
        "colab": {
          "base_uri": "https://localhost:8080/",
          "height": 216
        },
        "id": "Fc0qv5bYtC8y",
        "outputId": "d14310b3-fcb7-4c30-f20b-8d61215c0c3e"
      },
      "execution_count": null,
      "outputs": [
        {
          "output_type": "display_data",
          "data": {
            "text/plain": [
              "<Figure size 1080x288 with 3 Axes>"
            ],
            "image/png": "[encoded data removed]"
          },
          "metadata": {
            "needs_background": "light"
          }
        }
      ]
    }
  ]
}